{
  "cells": [
    {
      "cell_type": "markdown",
      "metadata": {
        "id": "view-in-github",
        "colab_type": "text"
      },
      "source": [
        "<a href=\"https://colab.research.google.com/github/thaarres/quantumUniverse_pynqZ2/blob/master/part1_ADmodel.ipynb\" target=\"_parent\"><img src=\"https://colab.research.google.com/assets/colab-badge.svg\" alt=\"Open In Colab\"/></a>"
      ]
    },
    {
      "cell_type": "markdown",
      "metadata": {
        "id": "KXxp5EdiwEk3"
      },
      "source": [
        "# How-to: Anomaly detection in nanoseconds on an FPGA\n",
        "\n",
        "<img src=\"https://github.com/thaarres/quantumUniverse_pynqZ2/blob/master/images/front.png?raw=1\" alt=\"The ADC2021 Challenge\" width=\"300\" img align=\"right\"/>\n",
        "\n",
        "In this notebook we will demonstrate how to design a tiny autoencoder (AE) that we will use for anomaly detection in particle physics. More specifically, we will demonstrate how we can use autoencoders to select potentially New Physics enhanced proton collision events in a more unbiased way than with the usual Level-1 trigger algorithms!\n",
        "\n",
        "Some of the key tools we will use in order to make our AE fast and small enought to fit within the strict latency and resource budget of a L1 trigger algorithm are:\n",
        "- Quantization\n",
        "- Pruning\n",
        "- Highly parallel deployment using hls4ml!\n",
        "\n",
        "We will train the autoencoder to learn to compress and decompress data, assuming that for highly anomalous events, the AE will fail.\n",
        "\n",
        "## Dataset\n",
        "\n",
        "As a dataset, we will use the [ADC2021 dataset](https://mpp-hep.github.io/ADC2021/). It is represented as an array of missing transverse energy (MET), up to 4 e/𝛾, up to 4 muons and 10 jets each described by pT, η, φ and particle ID to mimic a L1 data format. The particles are ordered by pT. If fewer objects are present, the event is zero padded in such a way that the 1st, 5th, and 9th positions correspond to the highest-$p_T$ electron, muon, and jet, respectively. The last index (with cardinality 4) runs over the three features describing each physics object and a particle type index, which is equal to 1, 2, 3 and 4 for MET, electron, muon and jet, respectively.\n",
        "\n",
        "You can train using the provided 4 million background-like events\n",
        "simulated with Delphes, where the events are pre-filtered to have at least one lepton\n",
        "<img src=\"https://github.com/thaarres/quantumUniverse_pynqZ2/blob/master/images/datagrid.png?raw=1\" alt=\"Background data\" width=\"300\" img align=\"right\"/>\n",
        "- Inclusive W production, with W → l𝜈 (59.2%)\n",
        "- Inclusive Z production, with Z → ll (6.7%)\n",
        "- tt production (0.3%)\n",
        "- QCD multijet production (33.8%)\n",
        "\n",
        "You can then evaluate the AE performance on several different New Physics simulated samples:\n",
        "- Neutral scalar boson A, 50 GeV → 4 l\n",
        "- Leptoquark, 80 GeV → b τ\n",
        "- Scalar boson, 60 GeV → τ τ\n",
        "- Charged scalar boson, 60 GeV → τ 𝜈\n",
        "- Black Box (mix of background and an unknown signal!!)\n",
        "\n",
        "We'll train using all the background data and test using the A (50 GeV) → 4 l sample. Let's fetch them! The background data can be downloaded [here](https://zenodo.org/record/5046389#.YaeRWL3MLze) and the signal data [here](https://zenodo.org/record/5046446#.YaeSa73MLzd). I have already downloaded it and moved it to folder called `data/`, you can do it by executing the following cell:\n"
      ]
    },
    {
      "cell_type": "code",
      "execution_count": 1,
      "metadata": {
        "id": "pHpj7cn6wEk5",
        "outputId": "d8e1ab19-ac04-4129-e556-3d2388d6d0e9",
        "colab": {
          "base_uri": "https://localhost:8080/"
        }
      },
      "outputs": [
        {
          "output_type": "execute_result",
          "data": {
            "text/plain": [
              "5443307"
            ]
          },
          "metadata": {},
          "execution_count": 1
        }
      ],
      "source": [
        "import os\n",
        "import requests\n",
        "\n",
        "if not os.path.exists('data/'):\n",
        "    os.mkdir('data/')\n",
        "\n",
        "url = \"https://zenodo.org/record/5046389/files/background_for_training.h5?download=1\"\n",
        "r = requests.get(url, allow_redirects=True)\n",
        "open('data/background_for_training.h5', 'wb').write(r.content)\n",
        "\n",
        "url = \"https://zenodo.org/record/5046446/files/Ato4l_lepFilter_13TeV.h5?download=1\"\n",
        "r = requests.get(url, allow_redirects=True)\n",
        "open('data/Ato4l_lepFilter_13TeV.h5', 'wb').write(r.content)"
      ]
    },
    {
      "cell_type": "markdown",
      "metadata": {
        "id": "tYrg2CqFwEk6"
      },
      "source": [
        "\n",
        "Let's prepare the data!\n",
        "Having very different numerical ranges for the input features, as in this case where $p_T$, $\\eta$ and $\\phi$ have a very diffent mean, makes it difficult for the network to converge. We will therefore standardize the $p_T$.  Also, when there is no lepton present in the event, the values will be zero padded. That means there is an unnatural number of zero entries in the $p_T$. For a real use case, the loss should be rewritten as to not take zero entries into account. Ideally we would also deal with the periodicity of phi etc. Details on the best procedure for preprccesing can be found in [this paper](https://arxiv.org/abs/2108.03986). In the interest of time, we'll only do the $p_T$ scaling.\n",
        "\n",
        "In addition, we also flatten the 2D grid into a 1D array to prepare feeding it into a dense network, and split the training data into train/validation/test sets:"
      ]
    },
    {
      "cell_type": "code",
      "execution_count": 2,
      "metadata": {
        "id": "CAQY2-qywEk7",
        "outputId": "6df701db-9c27-4ed5-d78a-554e5bf300c1",
        "colab": {
          "base_uri": "https://localhost:8080/"
        }
      },
      "outputs": [
        {
          "output_type": "stream",
          "name": "stdout",
          "text": [
            "Data shape = (N samples, N particles, N features) =  (4000000, 19, 3)\n",
            "Training data shape =  (2560000, 57)\n"
          ]
        }
      ],
      "source": [
        "import h5py\n",
        "import numpy as np\n",
        "from sklearn.model_selection import train_test_split\n",
        "from sklearn.preprocessing import StandardScaler\n",
        "\n",
        "nbkg_events = None #Depending how much time you have, you can use all of this data or only a fraction\n",
        "# read BACKGROUND data and shuffle it in preparation for training. This takes a while so I've done it in advance!\n",
        "with h5py.File('data/background_for_training.h5', 'r') as file:\n",
        "    full_data = file['Particles'][:,:,:-1] # The last column is the particle ID and we'll skip that for now\n",
        "    print(\"Data shape = (N samples, N particles, N features) = \",full_data.shape)\n",
        "    np.random.shuffle(full_data)\n",
        "    if nbkg_events: full_data = full_data[:nbkg_events,:,:]\n",
        "    pt_scaler = StandardScaler()\n",
        "    full_data[:,:,0] = pt_scaler.fit_transform(full_data[:,:,0])\n",
        "\n",
        "\n",
        "# define training, test and validation datasets\n",
        "X_train, X_test = train_test_split(full_data, test_size=0.2, shuffle=True)\n",
        "X_train, X_val = train_test_split(X_train, test_size=0.2)\n",
        "\n",
        "del full_data\n",
        "\n",
        "input_shape= X_train.shape[1]*X_train.shape[2]\n",
        "# flatten the data for model input\n",
        "X_train = X_train.reshape(X_train.shape[0], input_shape)\n",
        "X_test = X_test.reshape(X_test.shape[0], input_shape)\n",
        "X_val = X_val.reshape(X_val.shape[0], input_shape)\n",
        "print(\"Training data shape = \",X_train.shape)\n",
        "with h5py.File('bkg_dataset.h5', 'w') as h5f:\n",
        "    h5f.create_dataset('X_train', data = X_train)\n",
        "    h5f.create_dataset('X_test', data = X_test)\n",
        "    h5f.create_dataset('X_val', data = X_val)\n",
        "\n",
        "with h5py.File('data/Ato4l_lepFilter_13TeV.h5', 'r') as file:\n",
        "    signal_data = file['Particles'][:,:,:-1]\n",
        "    signal_data[:,:,0] = pt_scaler.transform(signal_data[:,:,0])\n",
        "    signal_data = signal_data.reshape(signal_data.shape[0],input_shape)\n",
        "with h5py.File('Ato4l_dataset.h5', 'w') as h5f2:\n",
        "    h5f2.create_dataset('Data', data = signal_data)\n"
      ]
    },
    {
      "cell_type": "markdown",
      "metadata": {
        "id": "hbb9wX52wEk7"
      },
      "source": [
        "You  now have two new files in your reposity, `bkg_dataset.h5` and `Ato4l_dataset.h5` which contains your train/test/val data to train the autoencoder, as well as a test data to check your performance on a New Physics signal"
      ]
    },
    {
      "cell_type": "markdown",
      "metadata": {
        "id": "HXw_69O-wEk7"
      },
      "source": [
        "Let's inspect the training data:"
      ]
    },
    {
      "cell_type": "code",
      "execution_count": 3,
      "metadata": {
        "id": "JrCYeQyDwEk7"
      },
      "outputs": [],
      "source": [
        "with h5py.File('bkg_dataset.h5', 'r') as file:\n",
        "    X_train = np.array(file['X_train'])\n",
        "    X_test = np.array(file['X_test'])\n",
        "    X_val = np.array(file['X_val'])\n",
        "\n",
        "with h5py.File('Ato4l_dataset.h5', 'r') as file:\n",
        "    signal_test_data = np.array(file['Data'])\n",
        "\n",
        ""
      ]
    },
    {
      "cell_type": "code",
      "execution_count": 4,
      "metadata": {
        "id": "xutXs2OqwEk7",
        "outputId": "7d779755-8976-496e-ba89-49e2d6249166",
        "colab": {
          "base_uri": "https://localhost:8080/",
          "height": 814
        }
      },
      "outputs": [
        {
          "output_type": "stream",
          "name": "stdout",
          "text": [
            " Training (#samples,#features): (2560000, 57)\n",
            " Testing  (#samples,#features): (55969, 57)\n",
            "Example data (1,57): [-1.08718776e+00  0.00000000e+00 -2.66409016e+00  4.69884523e-01\n",
            "  2.31486845e+00  6.83920026e-01 -3.58555796e-02  0.00000000e+00\n",
            "  0.00000000e+00 -1.06082268e-02  0.00000000e+00  0.00000000e+00\n",
            " -2.57502857e-03  0.00000000e+00  0.00000000e+00  4.34388275e-02\n",
            "  1.17693150e+00  1.64127874e+00 -2.98743154e-02  0.00000000e+00\n",
            "  0.00000000e+00 -8.17884995e-03  0.00000000e+00  0.00000000e+00\n",
            " -1.97147069e-03  0.00000000e+00  0.00000000e+00  9.68097462e-01\n",
            "  2.31548548e+00 -2.58200836e+00  2.21721723e+00  2.31486845e+00\n",
            "  6.83920026e-01 -1.48533390e-01  0.00000000e+00  0.00000000e+00\n",
            " -8.71758427e-02  0.00000000e+00  0.00000000e+00 -5.73052558e-02\n",
            "  0.00000000e+00  0.00000000e+00 -3.98315065e-02  0.00000000e+00\n",
            "  0.00000000e+00 -2.73385808e-02  0.00000000e+00  0.00000000e+00\n",
            " -1.81327909e-02  0.00000000e+00  0.00000000e+00 -1.16929442e-02\n",
            "  0.00000000e+00  0.00000000e+00 -7.32868055e-03  0.00000000e+00\n",
            "  0.00000000e+00]\n"
          ]
        },
        {
          "output_type": "display_data",
          "data": {
            "text/plain": [
              "<Figure size 800x500 with 2 Axes>"
            ],
            "image/png": "[encoded data removed]"
          },
          "metadata": {}
        }
      ],
      "source": [
        "import matplotlib.pyplot as plt\n",
        "\n",
        "print(\" Training (#samples,#features):\", X_train.shape)\n",
        "print(\" Testing  (#samples,#features):\", signal_test_data.shape)\n",
        "\n",
        "fig, axs = plt.subplots(1,2,figsize=(8,5))\n",
        "fig.suptitle('Kinematic distributions in bkg vs signal')\n",
        "\n",
        "axs[0].hist(X_train[:,3],bins=100,label=r'Background',histtype='step', linewidth=2, facecolor='none', edgecolor='green',fill=True,density=True)\n",
        "axs[0].hist(signal_test_data[:,3],bins=100,label=r'Signal',histtype='step', linewidth=2, facecolor='none', edgecolor='orchid',fill=True,density=True)\n",
        "axs[0].semilogy()\n",
        "axs[0].set(xlabel=u'Leading e/$\\gamma$ $p_{T}$ ( Norm. GeV)', ylabel='A.U')\n",
        "axs[0].legend(loc='best',frameon=False, ncol=1,fontsize='large')\n",
        "\n",
        "axs[1].hist(X_train[:,15],bins=100,label=r'Background',histtype='step', linewidth=2, facecolor='none', edgecolor='green',fill=True,density=True)\n",
        "axs[1].hist(signal_test_data[:,15],bins=100,label=r'Signal',histtype='step', linewidth=2, facecolor='none', edgecolor='orchid',fill=True,density=True)\n",
        "axs[1].set(xlabel=u'Leading muon $p_{T}$ (Norm. GeV)', ylabel='A.U')\n",
        "axs[1].semilogy()\n",
        "axs[1].legend(loc='best',frameon=False, ncol=1,fontsize='large')\n",
        "print(\"Example data (1,57):\",signal_test_data[3])"
      ]
    },
    {
      "cell_type": "markdown",
      "metadata": {
        "id": "sIPnQrBrwEk8"
      },
      "source": [
        "# Defining the autoencoder\n",
        "\n",
        "Now, let's define an autoencoder to learn to reconstruct the training data after compressing it through a bottleneck, then decompressing it again.\n",
        "\n",
        "<img src=\"https://github.com/thaarres/quantumUniverse_pynqZ2/blob/master/images/ae.png?raw=1\" alt=\"The autoencoder\" width=\"800\" img align=\"center\"/>\n",
        "\n",
        "For that, we need a stack of dense layers:"
      ]
    },
    {
      "cell_type": "code",
      "execution_count": 6,
      "metadata": {
        "id": "rBwFdeBfwEk8",
        "outputId": "dae31a04-febd-4a15-fbb4-86d9e71a39fd",
        "colab": {
          "base_uri": "https://localhost:8080/",
          "height": 748
        }
      },
      "outputs": [
        {
          "output_type": "stream",
          "name": "stderr",
          "text": [
            "/usr/local/lib/python3.11/dist-packages/keras/src/layers/activations/leaky_relu.py:41: UserWarning: Argument `alpha` is deprecated. Use `negative_slope` instead.\n",
            "  warnings.warn(\n"
          ]
        },
        {
          "output_type": "display_data",
          "data": {
            "text/plain": [
              "\u001b[1mModel: \"functional\"\u001b[0m\n"
            ],
            "text/html": [
              "<pre style=\"white-space:pre;overflow-x:auto;line-height:normal;font-family:Menlo,'DejaVu Sans Mono',consolas,'Courier New',monospace\"><span style=\"font-weight: bold\">Model: \"functional\"</span>\n",
              "</pre>\n"
            ]
          },
          "metadata": {}
        },
        {
          "output_type": "display_data",
          "data": {
            "text/plain": [
              "┏━━━━━━━━━━━━━━━━━━━━━━━━━━━━━━━━━┳━━━━━━━━━━━━━━━━━━━━━━━━┳━━━━━━━━━━━━━━━┓\n",
              "┃\u001b[1m \u001b[0m\u001b[1mLayer (type)                   \u001b[0m\u001b[1m \u001b[0m┃\u001b[1m \u001b[0m\u001b[1mOutput Shape          \u001b[0m\u001b[1m \u001b[0m┃\u001b[1m \u001b[0m\u001b[1m      Param #\u001b[0m\u001b[1m \u001b[0m┃\n",
              "┡━━━━━━━━━━━━━━━━━━━━━━━━━━━━━━━━━╇━━━━━━━━━━━━━━━━━━━━━━━━╇━━━━━━━━━━━━━━━┩\n",
              "│ input_layer_1 (\u001b[38;5;33mInputLayer\u001b[0m)      │ (\u001b[38;5;45mNone\u001b[0m, \u001b[38;5;34m57\u001b[0m)             │             \u001b[38;5;34m0\u001b[0m │\n",
              "├─────────────────────────────────┼────────────────────────┼───────────────┤\n",
              "│ dense (\u001b[38;5;33mDense\u001b[0m)                   │ (\u001b[38;5;45mNone\u001b[0m, \u001b[38;5;34m32\u001b[0m)             │         \u001b[38;5;34m1,856\u001b[0m │\n",
              "├─────────────────────────────────┼────────────────────────┼───────────────┤\n",
              "│ batch_normalization             │ (\u001b[38;5;45mNone\u001b[0m, \u001b[38;5;34m32\u001b[0m)             │           \u001b[38;5;34m128\u001b[0m │\n",
              "│ (\u001b[38;5;33mBatchNormalization\u001b[0m)            │                        │               │\n",
              "├─────────────────────────────────┼────────────────────────┼───────────────┤\n",
              "│ leaky_re_lu (\u001b[38;5;33mLeakyReLU\u001b[0m)         │ (\u001b[38;5;45mNone\u001b[0m, \u001b[38;5;34m32\u001b[0m)             │             \u001b[38;5;34m0\u001b[0m │\n",
              "├─────────────────────────────────┼────────────────────────┼───────────────┤\n",
              "│ dense_1 (\u001b[38;5;33mDense\u001b[0m)                 │ (\u001b[38;5;45mNone\u001b[0m, \u001b[38;5;34m16\u001b[0m)             │           \u001b[38;5;34m528\u001b[0m │\n",
              "├─────────────────────────────────┼────────────────────────┼───────────────┤\n",
              "│ batch_normalization_1           │ (\u001b[38;5;45mNone\u001b[0m, \u001b[38;5;34m16\u001b[0m)             │            \u001b[38;5;34m64\u001b[0m │\n",
              "│ (\u001b[38;5;33mBatchNormalization\u001b[0m)            │                        │               │\n",
              "├─────────────────────────────────┼────────────────────────┼───────────────┤\n",
              "│ leaky_re_lu_1 (\u001b[38;5;33mLeakyReLU\u001b[0m)       │ (\u001b[38;5;45mNone\u001b[0m, \u001b[38;5;34m16\u001b[0m)             │             \u001b[38;5;34m0\u001b[0m │\n",
              "├─────────────────────────────────┼────────────────────────┼───────────────┤\n",
              "│ dense_2 (\u001b[38;5;33mDense\u001b[0m)                 │ (\u001b[38;5;45mNone\u001b[0m, \u001b[38;5;34m3\u001b[0m)              │            \u001b[38;5;34m51\u001b[0m │\n",
              "├─────────────────────────────────┼────────────────────────┼───────────────┤\n",
              "│ dense_3 (\u001b[38;5;33mDense\u001b[0m)                 │ (\u001b[38;5;45mNone\u001b[0m, \u001b[38;5;34m16\u001b[0m)             │            \u001b[38;5;34m64\u001b[0m │\n",
              "├─────────────────────────────────┼────────────────────────┼───────────────┤\n",
              "│ batch_normalization_2           │ (\u001b[38;5;45mNone\u001b[0m, \u001b[38;5;34m16\u001b[0m)             │            \u001b[38;5;34m64\u001b[0m │\n",
              "│ (\u001b[38;5;33mBatchNormalization\u001b[0m)            │                        │               │\n",
              "├─────────────────────────────────┼────────────────────────┼───────────────┤\n",
              "│ leaky_re_lu_2 (\u001b[38;5;33mLeakyReLU\u001b[0m)       │ (\u001b[38;5;45mNone\u001b[0m, \u001b[38;5;34m16\u001b[0m)             │             \u001b[38;5;34m0\u001b[0m │\n",
              "├─────────────────────────────────┼────────────────────────┼───────────────┤\n",
              "│ dense_4 (\u001b[38;5;33mDense\u001b[0m)                 │ (\u001b[38;5;45mNone\u001b[0m, \u001b[38;5;34m32\u001b[0m)             │           \u001b[38;5;34m544\u001b[0m │\n",
              "├─────────────────────────────────┼────────────────────────┼───────────────┤\n",
              "│ batch_normalization_3           │ (\u001b[38;5;45mNone\u001b[0m, \u001b[38;5;34m32\u001b[0m)             │           \u001b[38;5;34m128\u001b[0m │\n",
              "│ (\u001b[38;5;33mBatchNormalization\u001b[0m)            │                        │               │\n",
              "├─────────────────────────────────┼────────────────────────┼───────────────┤\n",
              "│ leaky_re_lu_3 (\u001b[38;5;33mLeakyReLU\u001b[0m)       │ (\u001b[38;5;45mNone\u001b[0m, \u001b[38;5;34m32\u001b[0m)             │             \u001b[38;5;34m0\u001b[0m │\n",
              "├─────────────────────────────────┼────────────────────────┼───────────────┤\n",
              "│ dense_5 (\u001b[38;5;33mDense\u001b[0m)                 │ (\u001b[38;5;45mNone\u001b[0m, \u001b[38;5;34m57\u001b[0m)             │         \u001b[38;5;34m1,881\u001b[0m │\n",
              "└─────────────────────────────────┴────────────────────────┴───────────────┘\n"
            ],
            "text/html": [
              "<pre style=\"white-space:pre;overflow-x:auto;line-height:normal;font-family:Menlo,'DejaVu Sans Mono',consolas,'Courier New',monospace\">┏━━━━━━━━━━━━━━━━━━━━━━━━━━━━━━━━━┳━━━━━━━━━━━━━━━━━━━━━━━━┳━━━━━━━━━━━━━━━┓\n",
              "┃<span style=\"font-weight: bold\"> Layer (type)                    </span>┃<span style=\"font-weight: bold\"> Output Shape           </span>┃<span style=\"font-weight: bold\">       Param # </span>┃\n",
              "┡━━━━━━━━━━━━━━━━━━━━━━━━━━━━━━━━━╇━━━━━━━━━━━━━━━━━━━━━━━━╇━━━━━━━━━━━━━━━┩\n",
              "│ input_layer_1 (<span style=\"color: #0087ff; text-decoration-color: #0087ff\">InputLayer</span>)      │ (<span style=\"color: #00d7ff; text-decoration-color: #00d7ff\">None</span>, <span style=\"color: #00af00; text-decoration-color: #00af00\">57</span>)             │             <span style=\"color: #00af00; text-decoration-color: #00af00\">0</span> │\n",
              "├─────────────────────────────────┼────────────────────────┼───────────────┤\n",
              "│ dense (<span style=\"color: #0087ff; text-decoration-color: #0087ff\">Dense</span>)                   │ (<span style=\"color: #00d7ff; text-decoration-color: #00d7ff\">None</span>, <span style=\"color: #00af00; text-decoration-color: #00af00\">32</span>)             │         <span style=\"color: #00af00; text-decoration-color: #00af00\">1,856</span> │\n",
              "├─────────────────────────────────┼────────────────────────┼───────────────┤\n",
              "│ batch_normalization             │ (<span style=\"color: #00d7ff; text-decoration-color: #00d7ff\">None</span>, <span style=\"color: #00af00; text-decoration-color: #00af00\">32</span>)             │           <span style=\"color: #00af00; text-decoration-color: #00af00\">128</span> │\n",
              "│ (<span style=\"color: #0087ff; text-decoration-color: #0087ff\">BatchNormalization</span>)            │                        │               │\n",
              "├─────────────────────────────────┼────────────────────────┼───────────────┤\n",
              "│ leaky_re_lu (<span style=\"color: #0087ff; text-decoration-color: #0087ff\">LeakyReLU</span>)         │ (<span style=\"color: #00d7ff; text-decoration-color: #00d7ff\">None</span>, <span style=\"color: #00af00; text-decoration-color: #00af00\">32</span>)             │             <span style=\"color: #00af00; text-decoration-color: #00af00\">0</span> │\n",
              "├─────────────────────────────────┼────────────────────────┼───────────────┤\n",
              "│ dense_1 (<span style=\"color: #0087ff; text-decoration-color: #0087ff\">Dense</span>)                 │ (<span style=\"color: #00d7ff; text-decoration-color: #00d7ff\">None</span>, <span style=\"color: #00af00; text-decoration-color: #00af00\">16</span>)             │           <span style=\"color: #00af00; text-decoration-color: #00af00\">528</span> │\n",
              "├─────────────────────────────────┼────────────────────────┼───────────────┤\n",
              "│ batch_normalization_1           │ (<span style=\"color: #00d7ff; text-decoration-color: #00d7ff\">None</span>, <span style=\"color: #00af00; text-decoration-color: #00af00\">16</span>)             │            <span style=\"color: #00af00; text-decoration-color: #00af00\">64</span> │\n",
              "│ (<span style=\"color: #0087ff; text-decoration-color: #0087ff\">BatchNormalization</span>)            │                        │               │\n",
              "├─────────────────────────────────┼────────────────────────┼───────────────┤\n",
              "│ leaky_re_lu_1 (<span style=\"color: #0087ff; text-decoration-color: #0087ff\">LeakyReLU</span>)       │ (<span style=\"color: #00d7ff; text-decoration-color: #00d7ff\">None</span>, <span style=\"color: #00af00; text-decoration-color: #00af00\">16</span>)             │             <span style=\"color: #00af00; text-decoration-color: #00af00\">0</span> │\n",
              "├─────────────────────────────────┼────────────────────────┼───────────────┤\n",
              "│ dense_2 (<span style=\"color: #0087ff; text-decoration-color: #0087ff\">Dense</span>)                 │ (<span style=\"color: #00d7ff; text-decoration-color: #00d7ff\">None</span>, <span style=\"color: #00af00; text-decoration-color: #00af00\">3</span>)              │            <span style=\"color: #00af00; text-decoration-color: #00af00\">51</span> │\n",
              "├─────────────────────────────────┼────────────────────────┼───────────────┤\n",
              "│ dense_3 (<span style=\"color: #0087ff; text-decoration-color: #0087ff\">Dense</span>)                 │ (<span style=\"color: #00d7ff; text-decoration-color: #00d7ff\">None</span>, <span style=\"color: #00af00; text-decoration-color: #00af00\">16</span>)             │            <span style=\"color: #00af00; text-decoration-color: #00af00\">64</span> │\n",
              "├─────────────────────────────────┼────────────────────────┼───────────────┤\n",
              "│ batch_normalization_2           │ (<span style=\"color: #00d7ff; text-decoration-color: #00d7ff\">None</span>, <span style=\"color: #00af00; text-decoration-color: #00af00\">16</span>)             │            <span style=\"color: #00af00; text-decoration-color: #00af00\">64</span> │\n",
              "│ (<span style=\"color: #0087ff; text-decoration-color: #0087ff\">BatchNormalization</span>)            │                        │               │\n",
              "├─────────────────────────────────┼────────────────────────┼───────────────┤\n",
              "│ leaky_re_lu_2 (<span style=\"color: #0087ff; text-decoration-color: #0087ff\">LeakyReLU</span>)       │ (<span style=\"color: #00d7ff; text-decoration-color: #00d7ff\">None</span>, <span style=\"color: #00af00; text-decoration-color: #00af00\">16</span>)             │             <span style=\"color: #00af00; text-decoration-color: #00af00\">0</span> │\n",
              "├─────────────────────────────────┼────────────────────────┼───────────────┤\n",
              "│ dense_4 (<span style=\"color: #0087ff; text-decoration-color: #0087ff\">Dense</span>)                 │ (<span style=\"color: #00d7ff; text-decoration-color: #00d7ff\">None</span>, <span style=\"color: #00af00; text-decoration-color: #00af00\">32</span>)             │           <span style=\"color: #00af00; text-decoration-color: #00af00\">544</span> │\n",
              "├─────────────────────────────────┼────────────────────────┼───────────────┤\n",
              "│ batch_normalization_3           │ (<span style=\"color: #00d7ff; text-decoration-color: #00d7ff\">None</span>, <span style=\"color: #00af00; text-decoration-color: #00af00\">32</span>)             │           <span style=\"color: #00af00; text-decoration-color: #00af00\">128</span> │\n",
              "│ (<span style=\"color: #0087ff; text-decoration-color: #0087ff\">BatchNormalization</span>)            │                        │               │\n",
              "├─────────────────────────────────┼────────────────────────┼───────────────┤\n",
              "│ leaky_re_lu_3 (<span style=\"color: #0087ff; text-decoration-color: #0087ff\">LeakyReLU</span>)       │ (<span style=\"color: #00d7ff; text-decoration-color: #00d7ff\">None</span>, <span style=\"color: #00af00; text-decoration-color: #00af00\">32</span>)             │             <span style=\"color: #00af00; text-decoration-color: #00af00\">0</span> │\n",
              "├─────────────────────────────────┼────────────────────────┼───────────────┤\n",
              "│ dense_5 (<span style=\"color: #0087ff; text-decoration-color: #0087ff\">Dense</span>)                 │ (<span style=\"color: #00d7ff; text-decoration-color: #00d7ff\">None</span>, <span style=\"color: #00af00; text-decoration-color: #00af00\">57</span>)             │         <span style=\"color: #00af00; text-decoration-color: #00af00\">1,881</span> │\n",
              "└─────────────────────────────────┴────────────────────────┴───────────────┘\n",
              "</pre>\n"
            ]
          },
          "metadata": {}
        },
        {
          "output_type": "display_data",
          "data": {
            "text/plain": [
              "\u001b[1m Total params: \u001b[0m\u001b[38;5;34m5,308\u001b[0m (20.73 KB)\n"
            ],
            "text/html": [
              "<pre style=\"white-space:pre;overflow-x:auto;line-height:normal;font-family:Menlo,'DejaVu Sans Mono',consolas,'Courier New',monospace\"><span style=\"font-weight: bold\"> Total params: </span><span style=\"color: #00af00; text-decoration-color: #00af00\">5,308</span> (20.73 KB)\n",
              "</pre>\n"
            ]
          },
          "metadata": {}
        },
        {
          "output_type": "display_data",
          "data": {
            "text/plain": [
              "\u001b[1m Trainable params: \u001b[0m\u001b[38;5;34m5,116\u001b[0m (19.98 KB)\n"
            ],
            "text/html": [
              "<pre style=\"white-space:pre;overflow-x:auto;line-height:normal;font-family:Menlo,'DejaVu Sans Mono',consolas,'Courier New',monospace\"><span style=\"font-weight: bold\"> Trainable params: </span><span style=\"color: #00af00; text-decoration-color: #00af00\">5,116</span> (19.98 KB)\n",
              "</pre>\n"
            ]
          },
          "metadata": {}
        },
        {
          "output_type": "display_data",
          "data": {
            "text/plain": [
              "\u001b[1m Non-trainable params: \u001b[0m\u001b[38;5;34m192\u001b[0m (768.00 B)\n"
            ],
            "text/html": [
              "<pre style=\"white-space:pre;overflow-x:auto;line-height:normal;font-family:Menlo,'DejaVu Sans Mono',consolas,'Courier New',monospace\"><span style=\"font-weight: bold\"> Non-trainable params: </span><span style=\"color: #00af00; text-decoration-color: #00af00\">192</span> (768.00 B)\n",
              "</pre>\n"
            ]
          },
          "metadata": {}
        }
      ],
      "source": [
        "import tensorflow as tf\n",
        "from tensorflow.keras.models import Model\n",
        "from tensorflow.keras.layers import Input, Dense, Lambda, BatchNormalization, Activation, Concatenate, Dropout, Layer\n",
        "from tensorflow.keras.layers import ReLU, LeakyReLU\n",
        "\n",
        "input_shape = 57\n",
        "latent_dim = 2\n",
        "#encoder\n",
        "inputArray = Input(shape=(input_shape,))\n",
        "#x = BatchNormalization()(inputArray) #Only use this if you're not standardizing the pT\n",
        "x = Dense(32, kernel_initializer=tf.keras.initializers.HeUniform())(inputArray)\n",
        "x = BatchNormalization()(x)\n",
        "x = LeakyReLU(alpha=0.3)(x)\n",
        "x = Dense(16, kernel_initializer=tf.keras.initializers.HeUniform())(x)\n",
        "x = BatchNormalization()(x)\n",
        "x = LeakyReLU(alpha=0.3)(x)\n",
        "\n",
        "#bottleneck\n",
        "encoder = Dense(latent_dim, kernel_initializer=tf.keras.initializers.HeUniform())(x)\n",
        "\n",
        "#decoder\n",
        "x = Dense(16, kernel_initializer=tf.keras.initializers.HeUniform())(encoder)\n",
        "x = BatchNormalization()(x)\n",
        "x = LeakyReLU(alpha=0.3)(x)\n",
        "x = Dense(32, kernel_initializer=tf.keras.initializers.HeUniform())(x)\n",
        "x = BatchNormalization()(x)\n",
        "x = LeakyReLU(alpha=0.3)(x)\n",
        "decoder = Dense(input_shape, kernel_initializer=tf.keras.initializers.HeUniform())(x)\n",
        "\n",
        "#create autoencoder\n",
        "autoencoder = Model(inputs = inputArray, outputs=decoder)\n",
        "autoencoder.summary()\n",
        "\n",
        "\n",
        "# save the encoder-only model for easy access to latent space\n",
        "encoder = Model(inputs=inputArray, outputs=encoder, name=\"encoder\")"
      ]
    },
    {
      "cell_type": "code",
      "execution_count": 7,
      "metadata": {
        "id": "E8qk6D0pwEk8"
      },
      "outputs": [],
      "source": [
        "autoencoder.compile(optimizer=tf.keras.optimizers.Adam(learning_rate=0.00001), loss='mse')"
      ]
    },
    {
      "cell_type": "markdown",
      "metadata": {
        "id": "GScyQXUEwEk8"
      },
      "source": [
        "# Let's train!"
      ]
    },
    {
      "cell_type": "code",
      "execution_count": null,
      "metadata": {
        "id": "G6zN-PBnwEk8",
        "outputId": "20813448-ee32-4904-bcb7-88674628e027",
        "colab": {
          "base_uri": "https://localhost:8080/"
        }
      },
      "outputs": [
        {
          "output_type": "stream",
          "name": "stdout",
          "text": [
            "Epoch 1/150\n",
            "\u001b[1m2500/2500\u001b[0m \u001b[32m━━━━━━━━━━━━━━━━━━━━\u001b[0m\u001b[37m\u001b[0m \u001b[1m30s\u001b[0m 10ms/step - loss: 1.4190 - val_loss: 0.9958 - learning_rate: 1.0000e-05\n",
            "Epoch 2/150\n",
            "\u001b[1m2500/2500\u001b[0m \u001b[32m━━━━━━━━━━━━━━━━━━━━\u001b[0m\u001b[37m\u001b[0m \u001b[1m22s\u001b[0m 9ms/step - loss: 0.8668 - val_loss: 0.6332 - learning_rate: 1.0000e-05\n",
            "Epoch 3/150\n",
            "\u001b[1m2500/2500\u001b[0m \u001b[32m━━━━━━━━━━━━━━━━━━━━\u001b[0m\u001b[37m\u001b[0m \u001b[1m43s\u001b[0m 10ms/step - loss: 0.6027 - val_loss: 0.4866 - learning_rate: 1.0000e-05\n",
            "Epoch 4/150\n",
            "\u001b[1m2500/2500\u001b[0m \u001b[32m━━━━━━━━━━━━━━━━━━━━\u001b[0m\u001b[37m\u001b[0m \u001b[1m40s\u001b[0m 9ms/step - loss: 0.4910 - val_loss: 0.4302 - learning_rate: 1.0000e-05\n",
            "Epoch 5/150\n",
            "\u001b[1m2500/2500\u001b[0m \u001b[32m━━━━━━━━━━━━━━━━━━━━\u001b[0m\u001b[37m\u001b[0m \u001b[1m39s\u001b[0m 9ms/step - loss: 0.4372 - val_loss: 0.4042 - learning_rate: 1.0000e-05\n",
            "Epoch 6/150\n",
            "\u001b[1m2500/2500\u001b[0m \u001b[32m━━━━━━━━━━━━━━━━━━━━\u001b[0m\u001b[37m\u001b[0m \u001b[1m41s\u001b[0m 9ms/step - loss: 0.4078 - val_loss: 0.3904 - learning_rate: 1.0000e-05\n",
            "Epoch 7/150\n",
            "\u001b[1m2500/2500\u001b[0m \u001b[32m━━━━━━━━━━━━━━━━━━━━\u001b[0m\u001b[37m\u001b[0m \u001b[1m41s\u001b[0m 9ms/step - loss: 0.4075 - val_loss: 0.3780 - learning_rate: 1.0000e-05\n",
            "Epoch 8/150\n",
            "\u001b[1m2500/2500\u001b[0m \u001b[32m━━━━━━━━━━━━━━━━━━━━\u001b[0m\u001b[37m\u001b[0m \u001b[1m23s\u001b[0m 9ms/step - loss: 0.3868 - val_loss: 0.3682 - learning_rate: 1.0000e-05\n",
            "Epoch 9/150\n",
            "\u001b[1m2500/2500\u001b[0m \u001b[32m━━━━━━━━━━━━━━━━━━━━\u001b[0m\u001b[37m\u001b[0m \u001b[1m22s\u001b[0m 9ms/step - loss: 0.3694 - val_loss: 0.3601 - learning_rate: 1.0000e-05\n",
            "Epoch 10/150\n",
            "\u001b[1m2500/2500\u001b[0m \u001b[32m━━━━━━━━━━━━━━━━━━━━\u001b[0m\u001b[37m\u001b[0m \u001b[1m42s\u001b[0m 9ms/step - loss: 0.3933 - val_loss: 0.3530 - learning_rate: 1.0000e-05\n",
            "Epoch 11/150\n",
            "\u001b[1m2500/2500\u001b[0m \u001b[32m━━━━━━━━━━━━━━━━━━━━\u001b[0m\u001b[37m\u001b[0m \u001b[1m23s\u001b[0m 9ms/step - loss: 0.3568 - val_loss: 0.3471 - learning_rate: 1.0000e-05\n",
            "Epoch 12/150\n",
            "\u001b[1m2500/2500\u001b[0m \u001b[32m━━━━━━━━━━━━━━━━━━━━\u001b[0m\u001b[37m\u001b[0m \u001b[1m42s\u001b[0m 10ms/step - loss: 0.3532 - val_loss: 0.3418 - learning_rate: 1.0000e-05\n",
            "Epoch 13/150\n",
            "\u001b[1m2500/2500\u001b[0m \u001b[32m━━━━━━━━━━━━━━━━━━━━\u001b[0m\u001b[37m\u001b[0m \u001b[1m44s\u001b[0m 11ms/step - loss: 0.3571 - val_loss: 0.3374 - learning_rate: 1.0000e-05\n",
            "Epoch 14/150\n",
            "\u001b[1m2500/2500\u001b[0m \u001b[32m━━━━━━━━━━━━━━━━━━━━\u001b[0m\u001b[37m\u001b[0m \u001b[1m36s\u001b[0m 9ms/step - loss: 0.3395 - val_loss: 0.3330 - learning_rate: 1.0000e-05\n",
            "Epoch 15/150\n",
            "\u001b[1m2500/2500\u001b[0m \u001b[32m━━━━━━━━━━━━━━━━━━━━\u001b[0m\u001b[37m\u001b[0m \u001b[1m23s\u001b[0m 9ms/step - loss: 0.3493 - val_loss: 0.3293 - learning_rate: 1.0000e-05\n",
            "Epoch 16/150\n",
            "\u001b[1m2500/2500\u001b[0m \u001b[32m━━━━━━━━━━━━━━━━━━━━\u001b[0m\u001b[37m\u001b[0m \u001b[1m48s\u001b[0m 12ms/step - loss: 0.3427 - val_loss: 0.3257 - learning_rate: 1.0000e-05\n",
            "Epoch 17/150\n",
            "\u001b[1m2500/2500\u001b[0m \u001b[32m━━━━━━━━━━━━━━━━━━━━\u001b[0m\u001b[37m\u001b[0m \u001b[1m21s\u001b[0m 8ms/step - loss: 0.3273 - val_loss: 0.3228 - learning_rate: 1.0000e-05\n",
            "Epoch 18/150\n",
            "\u001b[1m2500/2500\u001b[0m \u001b[32m━━━━━━━━━━━━━━━━━━━━\u001b[0m\u001b[37m\u001b[0m \u001b[1m46s\u001b[0m 11ms/step - loss: 0.3181 - val_loss: 0.3204 - learning_rate: 1.0000e-05\n",
            "Epoch 19/150\n",
            "\u001b[1m2500/2500\u001b[0m \u001b[32m━━━━━━━━━━━━━━━━━━━━\u001b[0m\u001b[37m\u001b[0m \u001b[1m24s\u001b[0m 9ms/step - loss: 0.3258 - val_loss: 0.3176 - learning_rate: 1.0000e-05\n",
            "Epoch 20/150\n",
            "\u001b[1m2500/2500\u001b[0m \u001b[32m━━━━━━━━━━━━━━━━━━━━\u001b[0m\u001b[37m\u001b[0m \u001b[1m21s\u001b[0m 8ms/step - loss: 0.3217 - val_loss: 0.3150 - learning_rate: 1.0000e-05\n",
            "Epoch 21/150\n",
            "\u001b[1m2500/2500\u001b[0m \u001b[32m━━━━━━━━━━━━━━━━━━━━\u001b[0m\u001b[37m\u001b[0m \u001b[1m25s\u001b[0m 10ms/step - loss: 0.3242 - val_loss: 0.3127 - learning_rate: 1.0000e-05\n",
            "Epoch 22/150\n",
            "\u001b[1m2500/2500\u001b[0m \u001b[32m━━━━━━━━━━━━━━━━━━━━\u001b[0m\u001b[37m\u001b[0m \u001b[1m22s\u001b[0m 9ms/step - loss: 0.3314 - val_loss: 0.3109 - learning_rate: 1.0000e-05\n",
            "Epoch 23/150\n",
            "\u001b[1m2500/2500\u001b[0m \u001b[32m━━━━━━━━━━━━━━━━━━━━\u001b[0m\u001b[37m\u001b[0m \u001b[1m45s\u001b[0m 10ms/step - loss: 0.3032 - val_loss: 0.3095 - learning_rate: 1.0000e-05\n",
            "Epoch 24/150\n",
            "\u001b[1m2500/2500\u001b[0m \u001b[32m━━━━━━━━━━━━━━━━━━━━\u001b[0m\u001b[37m\u001b[0m \u001b[1m36s\u001b[0m 9ms/step - loss: 0.3132 - val_loss: 0.3071 - learning_rate: 1.0000e-05\n",
            "Epoch 25/150\n",
            "\u001b[1m2500/2500\u001b[0m \u001b[32m━━━━━━━━━━━━━━━━━━━━\u001b[0m\u001b[37m\u001b[0m \u001b[1m43s\u001b[0m 10ms/step - loss: 0.3215 - val_loss: 0.3063 - learning_rate: 1.0000e-05\n",
            "Epoch 26/150\n",
            "\u001b[1m2500/2500\u001b[0m \u001b[32m━━━━━━━━━━━━━━━━━━━━\u001b[0m\u001b[37m\u001b[0m \u001b[1m43s\u001b[0m 10ms/step - loss: 0.3248 - val_loss: 0.3040 - learning_rate: 1.0000e-05\n",
            "Epoch 27/150\n",
            "\u001b[1m2500/2500\u001b[0m \u001b[32m━━━━━━━━━━━━━━━━━━━━\u001b[0m\u001b[37m\u001b[0m \u001b[1m29s\u001b[0m 11ms/step - loss: 0.3042 - val_loss: 0.3016 - learning_rate: 1.0000e-05\n",
            "Epoch 28/150\n",
            "\u001b[1m2500/2500\u001b[0m \u001b[32m━━━━━━━━━━━━━━━━━━━━\u001b[0m\u001b[37m\u001b[0m \u001b[1m24s\u001b[0m 9ms/step - loss: 0.3002 - val_loss: 0.3005 - learning_rate: 1.0000e-05\n",
            "Epoch 29/150\n",
            "\u001b[1m2500/2500\u001b[0m \u001b[32m━━━━━━━━━━━━━━━━━━━━\u001b[0m\u001b[37m\u001b[0m \u001b[1m39s\u001b[0m 9ms/step - loss: 0.3170 - val_loss: 0.2991 - learning_rate: 1.0000e-05\n",
            "Epoch 30/150\n",
            "\u001b[1m2500/2500\u001b[0m \u001b[32m━━━━━━━━━━━━━━━━━━━━\u001b[0m\u001b[37m\u001b[0m \u001b[1m41s\u001b[0m 9ms/step - loss: 0.3090 - val_loss: 0.2975 - learning_rate: 1.0000e-05\n",
            "Epoch 31/150\n",
            "\u001b[1m2500/2500\u001b[0m \u001b[32m━━━━━━━━━━━━━━━━━━━━\u001b[0m\u001b[37m\u001b[0m \u001b[1m41s\u001b[0m 9ms/step - loss: 0.2877 - val_loss: 0.2963 - learning_rate: 1.0000e-05\n",
            "Epoch 32/150\n",
            "\u001b[1m2500/2500\u001b[0m \u001b[32m━━━━━━━━━━━━━━━━━━━━\u001b[0m\u001b[37m\u001b[0m \u001b[1m45s\u001b[0m 11ms/step - loss: 0.2956 - val_loss: 0.2956 - learning_rate: 1.0000e-05\n",
            "Epoch 33/150\n",
            "\u001b[1m2500/2500\u001b[0m \u001b[32m━━━━━━━━━━━━━━━━━━━━\u001b[0m\u001b[37m\u001b[0m \u001b[1m37s\u001b[0m 15ms/step - loss: 0.2991 - val_loss: 0.2933 - learning_rate: 1.0000e-05\n",
            "Epoch 34/150\n",
            "\u001b[1m2500/2500\u001b[0m \u001b[32m━━━━━━━━━━━━━━━━━━━━\u001b[0m\u001b[37m\u001b[0m \u001b[1m22s\u001b[0m 9ms/step - loss: 0.2987 - val_loss: 0.2926 - learning_rate: 1.0000e-05\n",
            "Epoch 35/150\n",
            "\u001b[1m2500/2500\u001b[0m \u001b[32m━━━━━━━━━━━━━━━━━━━━\u001b[0m\u001b[37m\u001b[0m \u001b[1m26s\u001b[0m 10ms/step - loss: 0.2985 - val_loss: 0.2916 - learning_rate: 1.0000e-05\n",
            "Epoch 36/150\n",
            "\u001b[1m2500/2500\u001b[0m \u001b[32m━━━━━━━━━━━━━━━━━━━━\u001b[0m\u001b[37m\u001b[0m \u001b[1m32s\u001b[0m 13ms/step - loss: 0.2895 - val_loss: 0.2898 - learning_rate: 1.0000e-05\n",
            "Epoch 37/150\n",
            "\u001b[1m2500/2500\u001b[0m \u001b[32m━━━━━━━━━━━━━━━━━━━━\u001b[0m\u001b[37m\u001b[0m \u001b[1m31s\u001b[0m 9ms/step - loss: 0.3039 - val_loss: 0.2887 - learning_rate: 1.0000e-05\n",
            "Epoch 38/150\n",
            "\u001b[1m2500/2500\u001b[0m \u001b[32m━━━━━━━━━━━━━━━━━━━━\u001b[0m\u001b[37m\u001b[0m \u001b[1m20s\u001b[0m 8ms/step - loss: 0.2991 - val_loss: 0.2872 - learning_rate: 1.0000e-05\n",
            "Epoch 39/150\n",
            "\u001b[1m2500/2500\u001b[0m \u001b[32m━━━━━━━━━━━━━━━━━━━━\u001b[0m\u001b[37m\u001b[0m \u001b[1m23s\u001b[0m 9ms/step - loss: 0.2881 - val_loss: 0.2871 - learning_rate: 1.0000e-05\n",
            "Epoch 40/150\n",
            "\u001b[1m2500/2500\u001b[0m \u001b[32m━━━━━━━━━━━━━━━━━━━━\u001b[0m\u001b[37m\u001b[0m \u001b[1m41s\u001b[0m 9ms/step - loss: 0.2875 - val_loss: 0.2858 - learning_rate: 1.0000e-05\n",
            "Epoch 41/150\n",
            "\u001b[1m2500/2500\u001b[0m \u001b[32m━━━━━━━━━━━━━━━━━━━━\u001b[0m\u001b[37m\u001b[0m \u001b[1m34s\u001b[0m 13ms/step - loss: 0.3018 - val_loss: 0.2843 - learning_rate: 1.0000e-05\n",
            "Epoch 42/150\n",
            "\u001b[1m2500/2500\u001b[0m \u001b[32m━━━━━━━━━━━━━━━━━━━━\u001b[0m\u001b[37m\u001b[0m \u001b[1m38s\u001b[0m 15ms/step - loss: 0.3155 - val_loss: 0.2843 - learning_rate: 1.0000e-05\n",
            "Epoch 43/150\n",
            "\u001b[1m2500/2500\u001b[0m \u001b[32m━━━━━━━━━━━━━━━━━━━━\u001b[0m\u001b[37m\u001b[0m \u001b[1m36s\u001b[0m 13ms/step - loss: 0.2802 - val_loss: 0.2824 - learning_rate: 1.0000e-05\n",
            "Epoch 44/150\n",
            "\u001b[1m2500/2500\u001b[0m \u001b[32m━━━━━━━━━━━━━━━━━━━━\u001b[0m\u001b[37m\u001b[0m \u001b[1m32s\u001b[0m 10ms/step - loss: 0.2872 - val_loss: 0.2822 - learning_rate: 1.0000e-05\n",
            "Epoch 45/150\n",
            "\u001b[1m2500/2500\u001b[0m \u001b[32m━━━━━━━━━━━━━━━━━━━━\u001b[0m\u001b[37m\u001b[0m \u001b[1m39s\u001b[0m 9ms/step - loss: 0.2719 - val_loss: 0.2817 - learning_rate: 1.0000e-05\n",
            "Epoch 46/150\n",
            "\u001b[1m2500/2500\u001b[0m \u001b[32m━━━━━━━━━━━━━━━━━━━━\u001b[0m\u001b[37m\u001b[0m \u001b[1m42s\u001b[0m 10ms/step - loss: 0.2892 - val_loss: 0.2808 - learning_rate: 1.0000e-05\n",
            "Epoch 47/150\n",
            "\u001b[1m2500/2500\u001b[0m \u001b[32m━━━━━━━━━━━━━━━━━━━━\u001b[0m\u001b[37m\u001b[0m \u001b[1m39s\u001b[0m 9ms/step - loss: 0.2944 - val_loss: 0.2796 - learning_rate: 1.0000e-05\n",
            "Epoch 48/150\n",
            "\u001b[1m2500/2500\u001b[0m \u001b[32m━━━━━━━━━━━━━━━━━━━━\u001b[0m\u001b[37m\u001b[0m \u001b[1m45s\u001b[0m 11ms/step - loss: 0.2812 - val_loss: 0.2789 - learning_rate: 1.0000e-05\n",
            "Epoch 49/150\n",
            "\u001b[1m2500/2500\u001b[0m \u001b[32m━━━━━━━━━━━━━━━━━━━━\u001b[0m\u001b[37m\u001b[0m \u001b[1m23s\u001b[0m 9ms/step - loss: 0.2878 - val_loss: 0.2780 - learning_rate: 1.0000e-05\n",
            "Epoch 50/150\n",
            "\u001b[1m2500/2500\u001b[0m \u001b[32m━━━━━━━━━━━━━━━━━━━━\u001b[0m\u001b[37m\u001b[0m \u001b[1m24s\u001b[0m 9ms/step - loss: 0.2759 - val_loss: 0.2791 - learning_rate: 1.0000e-05\n",
            "Epoch 51/150\n",
            "\u001b[1m2500/2500\u001b[0m \u001b[32m━━━━━━━━━━━━━━━━━━━━\u001b[0m\u001b[37m\u001b[0m \u001b[1m39s\u001b[0m 9ms/step - loss: 0.2918 - val_loss: 0.2768 - learning_rate: 1.0000e-05\n",
            "Epoch 52/150\n",
            "\u001b[1m2500/2500\u001b[0m \u001b[32m━━━━━━━━━━━━━━━━━━━━\u001b[0m\u001b[37m\u001b[0m \u001b[1m42s\u001b[0m 9ms/step - loss: 0.2660 - val_loss: 0.2775 - learning_rate: 1.0000e-05\n",
            "Epoch 53/150\n",
            "\u001b[1m2500/2500\u001b[0m \u001b[32m━━━━━━━━━━━━━━━━━━━━\u001b[0m\u001b[37m\u001b[0m \u001b[1m43s\u001b[0m 10ms/step - loss: 0.2716 - val_loss: 0.2759 - learning_rate: 1.0000e-05\n",
            "Epoch 54/150\n",
            "\u001b[1m2500/2500\u001b[0m \u001b[32m━━━━━━━━━━━━━━━━━━━━\u001b[0m\u001b[37m\u001b[0m \u001b[1m22s\u001b[0m 9ms/step - loss: 0.2755 - val_loss: 0.2758 - learning_rate: 1.0000e-05\n",
            "Epoch 55/150\n",
            "\u001b[1m2500/2500\u001b[0m \u001b[32m━━━━━━━━━━━━━━━━━━━━\u001b[0m\u001b[37m\u001b[0m \u001b[1m41s\u001b[0m 9ms/step - loss: 0.2736 - val_loss: 0.2741 - learning_rate: 1.0000e-05\n",
            "Epoch 56/150\n",
            "\u001b[1m2500/2500\u001b[0m \u001b[32m━━━━━━━━━━━━━━━━━━━━\u001b[0m\u001b[37m\u001b[0m \u001b[1m23s\u001b[0m 9ms/step - loss: 0.2791 - val_loss: 0.2737 - learning_rate: 1.0000e-05\n",
            "Epoch 57/150\n",
            "\u001b[1m2500/2500\u001b[0m \u001b[32m━━━━━━━━━━━━━━━━━━━━\u001b[0m\u001b[37m\u001b[0m \u001b[1m23s\u001b[0m 9ms/step - loss: 0.2689 - val_loss: 0.2726 - learning_rate: 1.0000e-05\n",
            "Epoch 58/150\n",
            "\u001b[1m2500/2500\u001b[0m \u001b[32m━━━━━━━━━━━━━━━━━━━━\u001b[0m\u001b[37m\u001b[0m \u001b[1m41s\u001b[0m 9ms/step - loss: 0.2673 - val_loss: 0.2725 - learning_rate: 1.0000e-05\n",
            "Epoch 59/150\n",
            "\u001b[1m2500/2500\u001b[0m \u001b[32m━━━━━━━━━━━━━━━━━━━━\u001b[0m\u001b[37m\u001b[0m \u001b[1m22s\u001b[0m 9ms/step - loss: 0.2718 - val_loss: 0.2724 - learning_rate: 1.0000e-05\n",
            "Epoch 60/150\n",
            "\u001b[1m2500/2500\u001b[0m \u001b[32m━━━━━━━━━━━━━━━━━━━━\u001b[0m\u001b[37m\u001b[0m \u001b[1m22s\u001b[0m 9ms/step - loss: 0.2597 - val_loss: 0.2715 - learning_rate: 1.0000e-05\n",
            "Epoch 61/150\n",
            "\u001b[1m2500/2500\u001b[0m \u001b[32m━━━━━━━━━━━━━━━━━━━━\u001b[0m\u001b[37m\u001b[0m \u001b[1m22s\u001b[0m 9ms/step - loss: 0.2674 - val_loss: 0.2707 - learning_rate: 1.0000e-05\n",
            "Epoch 62/150\n",
            "\u001b[1m2500/2500\u001b[0m \u001b[32m━━━━━━━━━━━━━━━━━━━━\u001b[0m\u001b[37m\u001b[0m \u001b[1m25s\u001b[0m 10ms/step - loss: 0.2652 - val_loss: 0.2699 - learning_rate: 1.0000e-05\n",
            "Epoch 63/150\n",
            "\u001b[1m2500/2500\u001b[0m \u001b[32m━━━━━━━━━━━━━━━━━━━━\u001b[0m\u001b[37m\u001b[0m \u001b[1m22s\u001b[0m 9ms/step - loss: 0.2776 - val_loss: 0.2688 - learning_rate: 1.0000e-05\n",
            "Epoch 64/150\n"
          ]
        }
      ],
      "source": [
        "train = True #If you have a pre-trained model you can set this to false and load the other instead\n",
        "EPOCHS = 150\n",
        "BATCH_SIZE = 1024\n",
        "\n",
        "from tensorflow.keras.callbacks import EarlyStopping, ReduceLROnPlateau, TerminateOnNaN\n",
        "\n",
        "callbacks=[]\n",
        "callbacks.append(ReduceLROnPlateau(monitor='val_loss',  factor=0.1, patience=2, verbose=1, mode='auto', min_delta=0.0001, cooldown=2, min_lr=1E-6))\n",
        "callbacks.append(TerminateOnNaN())\n",
        "callbacks.append(tf.keras.callbacks.EarlyStopping(monitor='val_loss',verbose=1, patience=10, restore_best_weights=True))\n",
        "\n",
        "if train:\n",
        "    history = autoencoder.fit(X_train, X_train, epochs = EPOCHS, batch_size = BATCH_SIZE,\n",
        "                  validation_data=(X_val, X_val),\n",
        "                  callbacks=callbacks)\n",
        "    # Save the model\n",
        "    autoencoder.save('baseline_ae.h5')\n",
        "    autoencoder.save_weights('baseline_ae_weights_only.h5')\n",
        "\n",
        "else:\n",
        "    autoencoder = tf.keras.models.load_model('baseline_ae.h5')"
      ]
    },
    {
      "cell_type": "markdown",
      "metadata": {
        "id": "_0OXC-lbwEk9"
      },
      "source": [
        "# Evaluating the model performance\n",
        "\n",
        "Remember that the key metric we use for anomaly detection is the mean-squared-error: If the error is high, the data is more likely to be anomalous, and if the error is low, the data is similar to the training data (which in our case is SM events). We therefore first need to run `model.predict()` in order to get the AE reconstructed output, both for our vanilla SM test data, and for our new leptoquark signal!"
      ]
    },
    {
      "cell_type": "code",
      "execution_count": null,
      "metadata": {
        "id": "af9sJyk8wEk9"
      },
      "outputs": [],
      "source": [
        "bkg_prediction = autoencoder.predict(X_test)\n",
        "signal_prediction = autoencoder.predict(signal_test_data)"
      ]
    },
    {
      "cell_type": "markdown",
      "metadata": {
        "id": "fH1__6_iwEk9"
      },
      "source": [
        "Let's see how well the network reconstructs the transverse momentum of the leptons!"
      ]
    },
    {
      "cell_type": "code",
      "execution_count": null,
      "metadata": {
        "id": "zSMoeq1TwEk9"
      },
      "outputs": [],
      "source": [
        "fig, axs = plt.subplots(1,2,figsize=(16,8))\n",
        "fig.suptitle('Real data versus reconsructed data')\n",
        "axs[0].hist(X_test[:,3],bins=100,label=r'Real data',histtype='step', linewidth=2, facecolor='none', edgecolor='green',fill=True,density=True)\n",
        "axs[0].hist(bkg_prediction[:,3],bins=100,label=r'Predicted',histtype='step', linewidth=2, facecolor='none', edgecolor='orchid',fill=True,density=True)\n",
        "axs[0].semilogy()\n",
        "axs[0].set(xlabel=u'Leading e/$\\gamma$ $p_{T}$ ( Norm. GeV)', ylabel='A.U')\n",
        "axs[0].legend(loc='best',frameon=False, ncol=1,fontsize='large')\n",
        "\n",
        "axs[1].hist(X_test[:,15],bins=100,label=r'Real data',histtype='step', linewidth=2, facecolor='none', edgecolor='green',fill=True,density=True)\n",
        "axs[1].hist(bkg_prediction[:,15],bins=100,label=r'Predicted',histtype='step', linewidth=2, facecolor='none', edgecolor='orchid',fill=True,density=True)\n",
        "axs[1].set(xlabel=u'Leading muon $p_{T}$ (Norm. GeV)', ylabel='A.U')\n",
        "axs[1].semilogy()\n",
        "axs[1].legend(loc='best',frameon=False, ncol=1,fontsize='large')"
      ]
    },
    {
      "cell_type": "markdown",
      "metadata": {
        "id": "qI5tcXq2wEk9"
      },
      "source": [
        "The reconstructed $p_T$ has an unphysical tail below zero. For a real usecase, we would force the output to be positive for that column, as well as treat the zero-padded cases differently in the loss.\n",
        "To keep it short, we won't do that now, but you can read more about it [here](https://arxiv.org/abs/2108.03986)\n",
        "\n",
        "We then need to compute the mean-square-error, which will be our final discriminating variable. This you would need to write custom if applying the changes we mention above:"
      ]
    },
    {
      "cell_type": "code",
      "execution_count": null,
      "metadata": {
        "id": "xvI8Zy5qwEk9"
      },
      "outputs": [],
      "source": [
        "def mse_loss(true, prediction):\n",
        "    loss = tf.reduce_mean(tf.math.square(true - prediction),axis=-1)\n",
        "    return loss\n",
        "\n",
        "# compute loss value of input data versus AE reconstructed data\n",
        "mse_sm = mse_loss(X_test, bkg_prediction.astype(np.float32)).numpy()\n",
        "mse_bsm = mse_loss(signal_test_data,signal_prediction.astype(np.float32)).numpy()"
      ]
    },
    {
      "cell_type": "markdown",
      "metadata": {
        "id": "vTYjtQN0wEk9"
      },
      "source": [
        "Now, let's look at our discriminant!"
      ]
    },
    {
      "cell_type": "code",
      "execution_count": null,
      "metadata": {
        "id": "VEs0PLwowEk-"
      },
      "outputs": [],
      "source": [
        "bin_size=100\n",
        "\n",
        "plt.figure(figsize=(8,8))\n",
        "n, bins, patches =plt.hist(mse_bsm, bins=bin_size, label=\"Leptoquark\", density = True, histtype='step', fill=False, edgecolor='orchid', linewidth=1.5,range=[0,200])\n",
        "n_, bins_, patches_ =plt.hist(mse_sm, bins=bin_size, label=\"SM Background\", density = True, histtype='step', fill=False, edgecolor='green', linewidth=1.5,range=[0,200])\n",
        "plt.yscale('log')\n",
        "plt.xlabel(\"Mean-squared-error\")\n",
        "plt.ylabel(\"Probability (a.u.)\")\n",
        "plt.legend(loc='best')\n",
        "plt.show()"
      ]
    },
    {
      "cell_type": "markdown",
      "metadata": {
        "id": "k8XFNW4WwEk-"
      },
      "source": [
        "There seems to be some discrimination power if we cut at very high values of the MSE! Let's look at a ROC curve to make it easier to vizualize"
      ]
    },
    {
      "cell_type": "code",
      "execution_count": null,
      "metadata": {
        "id": "uU2mvS-5wEk-"
      },
      "outputs": [],
      "source": [
        "from sklearn.metrics import roc_curve, auc\n",
        "\n",
        "target_background = np.zeros(mse_sm.shape[0])\n",
        "\n",
        "plt.figure(figsize=(8,8))\n",
        "trueVal = np.concatenate((np.ones(mse_bsm.shape[0]), target_background)) # anomaly=1, bkg=0\n",
        "predVal_loss = np.concatenate((mse_bsm, mse_sm))\n",
        "\n",
        "fpr_loss, tpr_loss, threshold_loss = roc_curve(trueVal, predVal_loss)\n",
        "\n",
        "auc_loss = auc(fpr_loss, tpr_loss)\n",
        "\n",
        "plt.plot(fpr_loss, tpr_loss, \"-\", label='Leptoquark (auc = %.1f%%)'%(auc_loss*100.), linewidth=1.5, color = \"orchid\")\n",
        "\n",
        "plt.semilogx()\n",
        "plt.semilogy()\n",
        "plt.ylabel(\"True Positive Rate\")\n",
        "plt.xlabel(\"False Positive Rate\")\n",
        "plt.legend(loc='center right')\n",
        "plt.grid(True)\n",
        "plt.tight_layout()\n",
        "plt.plot(np.linspace(0, 1),np.linspace(0, 1), '--', color='0.75')\n",
        "plt.axvline(0.00001, color='green', linestyle='dashed', linewidth=2) # threshold value for measuring anomaly detection efficiency\n",
        "plt.show()"
      ]
    },
    {
      "cell_type": "markdown",
      "metadata": {
        "id": "0dgkhw6mwEk-"
      },
      "source": [
        "Pretty good! So at a false positive rate of 10E-5, the signal efficiency is almost three orders of magnitude higher! This can obviously be further improved, but I leave that up to you :)"
      ]
    },
    {
      "cell_type": "markdown",
      "metadata": {
        "id": "vRG-y_HJwEk-"
      },
      "source": [
        "## Model compression\n",
        "<img src=\"https://github.com/thaarres/quantumUniverse_pynqZ2/blob/master/images/nmi_qkeras_hls4ml.jpeg?raw=1\" alt=\"hls4ml and qkeras\" width=\"200\" img align=\"left\"/>\n",
        "\n",
        "Now, there is absolutely no way anyone would let you deploy this model on an FPGA in the trigger. It will use far too many resources! Luckily, as we discussed in the lecture, there are some cheap tricks you can perform to compress the model. These are pruning and quantization-aware-training and both are very easily implemented. Let's have a look.\n",
        "\n",
        "To quantize the model during training, such that the network will get the opportunity to adapt to the narrower bitwidth we use the library [QKeras](https://www.nature.com/articles/s42256-021-00356-5.epdf?sharing_token=A6MQVmmncHNyCtDUXzrqtNRgN0jAjWel9jnR3ZoTv0N3uekY-CrHD1aJ9BTeJNRfQ1EhZ9jJIhgZjfrQxrmxMLMZ4eGzSeru7-ASFE-Xt3NVE6yorlffwUN0muAm1auU2I6-5ug4bOLCRYvA0mp-iT-OdPsrBYeH0IHRYx0t3wc%3D), developed in a joint effort between CERN and Google."
      ]
    },
    {
      "cell_type": "code",
      "execution_count": null,
      "metadata": {
        "id": "ShFIoR_-wEk-"
      },
      "outputs": [],
      "source": [
        "from qkeras import QDense, QActivation\n",
        "\n",
        "#encoder\n",
        "inputArray = Input(shape=(input_shape))\n",
        "# x = BatchNormalization()(inputArray)\n",
        "x = QDense(32, kernel_initializer=tf.keras.initializers.HeUniform(),\n",
        "               kernel_quantizer='quantized_bits(8,3,1, alpha=1.0)',\n",
        "               bias_quantizer='quantized_bits(8,3,1, alpha=1.0)')(inputArray)\n",
        "x = BatchNormalization()(x)\n",
        "x = QActivation('quantized_relu(bits=8)')(x)\n",
        "x = QDense(16, kernel_initializer=tf.keras.initializers.HeUniform(),\n",
        "               kernel_quantizer='quantized_bits(8,3,1, alpha=1.0)',\n",
        "               bias_quantizer='quantized_bits(8,3,1, alpha=1.0)')(x)\n",
        "x = BatchNormalization()(x)\n",
        "x = QActivation('quantized_relu(bits=8)')(x)\n",
        "encoder = QDense(latent_dim, kernel_initializer=tf.keras.initializers.HeUniform(),\n",
        "               kernel_quantizer='quantized_bits(16,6,1, alpha=1.0)',\n",
        "               bias_quantizer='quantized_bits(16,6,1, alpha=1.0)', name='bottleneck')(x)\n",
        "\n",
        "#decoder\n",
        "x = QDense(16, kernel_initializer=tf.keras.initializers.HeUniform(),\n",
        "               kernel_quantizer='quantized_bits(8,3,1, alpha=1.0)',\n",
        "               bias_quantizer='quantized_bits(8,3,1, alpha=1.0)')(encoder)\n",
        "x = BatchNormalization()(x)\n",
        "x = QActivation('quantized_relu(bits=8)')(x)\n",
        "x = QDense(32, kernel_initializer=tf.keras.initializers.HeUniform(),\n",
        "               kernel_quantizer='quantized_bits(8,3,1, alpha=1.0)',\n",
        "               bias_quantizer='quantized_bits(8,3,1, alpha=1.0)')(x)\n",
        "x = BatchNormalization()(x)\n",
        "x = QActivation('quantized_relu(bits=8)')(x)\n",
        "decoder = QDense(input_shape, kernel_initializer=tf.keras.initializers.HeUniform(),\n",
        "               kernel_quantizer='quantized_bits(16,6,1, alpha=1.0)',\n",
        "               bias_quantizer='quantized_bits(16,6,1, alpha=1.0)')(x)\n",
        "\n",
        "#create autoencoder\n",
        "q_autoencoder = Model(inputs = inputArray, outputs=decoder)\n",
        "q_autoencoder.summary()"
      ]
    },
    {
      "cell_type": "markdown",
      "metadata": {
        "id": "YTTmPGrswEk-"
      },
      "source": [
        "Easy as that! Let's add some pruning on top, 50% sparsity (removing 50% of the weights). Let's make sure to skip our latent dimension!"
      ]
    },
    {
      "cell_type": "code",
      "execution_count": null,
      "metadata": {
        "id": "Sxj04wUZwEk-"
      },
      "outputs": [],
      "source": [
        "import tensorflow_model_optimization as tfmot\n",
        "from tensorflow_model_optimization.python.core.sparsity.keras import prune, pruning_callbacks, pruning_schedule\n",
        "from tensorflow_model_optimization.sparsity.keras import strip_pruning\n",
        "\n",
        "def pruneFunction(layer):\n",
        "    pruning_params = {'pruning_schedule': pruning_schedule.PolynomialDecay(initial_sparsity=0.05,final_sparsity=0.50, begin_step=0, end_step=100, frequency=100)}\n",
        "    if isinstance(layer, tf.keras.layers.Dense) and layer.name!='bottleneck':\n",
        "      return tfmot.sparsity.keras.prune_low_magnitude(layer, **pruning_params)\n",
        "    return layer\n",
        "\n",
        "q_autoencoder.load_weights('baseline_ae_weights_only.h5')\n",
        "qp_autoencoder = tf.keras.models.clone_model( q_autoencoder, clone_function=pruneFunction)\n",
        "qp_autoencoder.compile(optimizer=tf.keras.optimizers.Adam(learning_rate=0.00001), loss='mse')"
      ]
    },
    {
      "cell_type": "code",
      "execution_count": null,
      "metadata": {
        "id": "crrPM6d2wEk_"
      },
      "outputs": [],
      "source": [
        "train = False\n",
        "EPOCHS = 150\n",
        "BATCH_SIZE = 1024\n",
        "\n",
        "from tensorflow.keras.callbacks import EarlyStopping, ReduceLROnPlateau, TerminateOnNaN\n",
        "\n",
        "callbacks=[]\n",
        "callbacks.append(ReduceLROnPlateau(monitor='val_loss',  factor=0.1, patience=2, verbose=1, mode='auto', min_delta=0.0001, cooldown=2, min_lr=1E-6))\n",
        "callbacks.append(TerminateOnNaN())\n",
        "callbacks.append(tf.keras.callbacks.EarlyStopping(monitor='val_loss',verbose=1, patience=10, restore_best_weights=False))\n",
        "callbacks.append(pruning_callbacks.UpdatePruningStep())\n",
        "if train:\n",
        "\n",
        "    history = qp_autoencoder.fit(X_train, X_train, epochs = EPOCHS, batch_size = BATCH_SIZE,\n",
        "                  validation_data=(X_val, X_val),\n",
        "                  callbacks=callbacks)\n",
        "    # Save the model\n",
        "    qp_autoencoder = strip_pruning(qp_autoencoder)\n",
        "    qp_autoencoder.save('qkeras_ae.h5')\n",
        "\n",
        "else:\n",
        "    from qkeras.utils import _add_supported_quantized_objects\n",
        "    co = {}; _add_supported_quantized_objects(co)\n",
        "\n",
        "    qp_autoencoder = tf.keras.models.load_model('qkeras_ae.h5',custom_objects=co)\n",
        ""
      ]
    },
    {
      "cell_type": "markdown",
      "metadata": {
        "id": "nGWQ3ffjwEk_"
      },
      "source": [
        "Let's quickly check that the pruning worked and 30% of the weights are indeed 0!"
      ]
    },
    {
      "cell_type": "code",
      "execution_count": null,
      "metadata": {
        "id": "Df-bSRMlwEk_"
      },
      "outputs": [],
      "source": [
        "def doWeights(model):\n",
        "\n",
        "    allWeightsByLayer = {}\n",
        "    for layer in model.layers:\n",
        "        if (layer._name).find(\"batch\")!=-1 or len(layer.get_weights())<1:\n",
        "            continue\n",
        "        weights=layer.weights[0].numpy().flatten()\n",
        "        allWeightsByLayer[layer._name] = weights\n",
        "        print('Layer {}: % of zeros = {}'.format(layer._name,np.sum(weights==0)/np.size(weights)))\n",
        "\n",
        "    labelsW = []\n",
        "    histosW = []\n",
        "\n",
        "    for key in reversed(sorted(allWeightsByLayer.keys())):\n",
        "        labelsW.append(key)\n",
        "        histosW.append(allWeightsByLayer[key])\n",
        "\n",
        "    fig = plt.figure(figsize=(10,10))\n",
        "    bins = np.linspace(-1.5, 1.5, 50)\n",
        "    plt.hist(histosW,bins,histtype='stepfilled',stacked=True,label=labelsW, edgecolor='black')\n",
        "    plt.legend(frameon=False,loc='upper left')\n",
        "    plt.ylabel('Number of Weights')\n",
        "    plt.xlabel('Weights')\n",
        "    plt.figtext(0.2, 0.38,model._name, wrap=True, horizontalalignment='left',verticalalignment='center')\n",
        "\n",
        "doWeights(autoencoder)\n",
        "doWeights(qp_autoencoder)"
      ]
    },
    {
      "cell_type": "markdown",
      "metadata": {
        "id": "31tQCaA6wEk_"
      },
      "source": [
        "Indeed, a huge spike at zero for the pruned model! Let's compare the performance to the floating point precision, unpruned model:"
      ]
    },
    {
      "cell_type": "code",
      "execution_count": null,
      "metadata": {
        "id": "3h3MDOMSwEk_"
      },
      "outputs": [],
      "source": [
        "bkg_prediction = qp_autoencoder.predict(X_test)\n",
        "signal_prediction = qp_autoencoder.predict(signal_test_data)\n",
        "\n",
        "# compute loss value of input data versus AE reconstructed data\n",
        "q_mse_sm = mse_loss(X_test, bkg_prediction.astype(np.float32)).numpy()\n",
        "q_mse_bsm = mse_loss(signal_test_data,signal_prediction.astype(np.float32)).numpy()\n",
        "\n",
        "target_background = np.zeros(q_mse_sm.shape[0])\n",
        "\n",
        "plt.figure(figsize=(8,8))\n",
        "trueVal = np.concatenate((np.ones(q_mse_bsm.shape[0]), target_background)) # anomaly=1, bkg=0\n",
        "predVal_loss = np.concatenate((q_mse_bsm, q_mse_sm))\n",
        "\n",
        "q_fpr_loss, q_tpr_loss, q_threshold_loss = roc_curve(trueVal, predVal_loss)\n",
        "\n",
        "q_auc_loss = auc(q_fpr_loss, q_tpr_loss)"
      ]
    },
    {
      "cell_type": "code",
      "execution_count": null,
      "metadata": {
        "id": "SUY_bOPpwEk_"
      },
      "outputs": [],
      "source": [
        "plt.figure(figsize=(8,8))\n",
        "\n",
        "plt.plot(fpr_loss, tpr_loss, \"-\", label='Baseline (auc = %.1f%%)'%(auc_loss*100.), linewidth=1.5, color = \"orchid\")\n",
        "plt.plot(q_fpr_loss, q_tpr_loss, \"-\", label='Quantized+Pruned (auc = %.1f%%)'%(q_auc_loss*100.), linewidth=1.5, color = \"green\")\n",
        "\n",
        "plt.semilogx()\n",
        "plt.semilogy()\n",
        "plt.ylabel(\"True Positive Rate\")\n",
        "plt.xlabel(\"False Positive Rate\")\n",
        "plt.legend(loc='center right')\n",
        "plt.grid(True)\n",
        "plt.tight_layout()\n",
        "plt.ylim(0.001,1)\n",
        "plt.plot(np.linspace(0, 1),np.linspace(0, 1), '--', color='0.75')\n",
        "plt.axvline(0.00001, color='orange', linestyle='dashed', linewidth=2) # threshold value for measuring anomaly detection efficiency\n",
        "plt.show()"
      ]
    },
    {
      "cell_type": "markdown",
      "metadata": {
        "id": "03CHQhOkwEk_"
      },
      "source": [
        "Take a moment to appreciate what an absolutely fantastic result this is! We can reduce the numerical precision of the model from floating point 32 representation to 8-bit fixed point precision, remove 50% of the weights *and still get the same performance*!! This is a crucial, and absolutely neccessary, part of making deep neural networks in particle detector data aquisition systems a reality (also, note that AUC is not a good metric for trigger applications, where you typically operate at very low false positive rates of 10E-5)."
      ]
    },
    {
      "cell_type": "code",
      "source": [],
      "metadata": {
        "id": "guWEk_Lmwc3a"
      },
      "execution_count": null,
      "outputs": []
    },
    {
      "cell_type": "markdown",
      "source": [
        "# Exercises\n",
        "\n",
        "- Perform a PCA on the training images using sklearn.decomposition.PCA with 2 components.\n",
        "\n",
        "- Plot the PCA ROC curve. Report the AUC.\n",
        "\n",
        "- Plot the 2D latent space for signal and background\n",
        "\n",
        "- Turn the AE into a VAE. Hints:"
      ],
      "metadata": {
        "id": "InNeC2pfzDFW"
      }
    },
    {
      "cell_type": "code",
      "source": [
        "from sklearn.decomposition import PCA\n",
        "from sklearn.preprocessing import StandardScaler\n",
        "\n",
        "scaler = StandardScaler()\n",
        "X_scaled = scaler.fit_transform(X_train)\n",
        "\n",
        "# Step 2: Apply PCA\n",
        "pca = PCA(n_components=2)\n",
        "X_pca = pca.fit_transform(X_scaled)\n",
        "\n",
        "# Step 3: Plot\n",
        "plt.figure(figsize=(8, 6))\n",
        "plt.scatter(X_pca[:, 0], X_pca[:, 1], alpha=0.6, c='blue', edgecolor='k')\n",
        "plt.xlabel('Principal Component 1')\n",
        "plt.ylabel('Principal Component 2')\n",
        "plt.grid(True)\n",
        "plt.tight_layout()\n",
        "plt.show()\n"
      ],
      "metadata": {
        "id": "PvDSV8SYzFLZ"
      },
      "execution_count": null,
      "outputs": []
    },
    {
      "cell_type": "code",
      "source": [
        "# Encode test data to latent space\n",
        "latent_representations = encoder.predict(X_test)\n",
        "latent_representations_b = encoder.predict(X_test)\n",
        "latent_representations_s = encoder.predict(signal_test_data)\n",
        "\n",
        "# Plot\n",
        "plt.figure(figsize=(8,6))\n",
        "plt.scatter(latent_representations_b[:, 0], latent_representations_b[:, 1], alpha=0.6, c='blue', edgecolor='k')\n",
        "plt.scatter(latent_representations_s[:, 0], latent_representations_s[:, 1], alpha=0.6, c='red', edgecolor='k')\n",
        "plt.xlabel(\"Latent Dimension 1\")\n",
        "plt.ylabel(\"Latent Dimension 2\")\n",
        "plt.grid(True)\n",
        "plt.tight_layout()\n",
        "plt.show()"
      ],
      "metadata": {
        "id": "OVPXSmB41Vjq"
      },
      "execution_count": null,
      "outputs": []
    }
  ],
  "metadata": {
    "kernelspec": {
      "display_name": "Python 3 (ipykernel)",
      "language": "python",
      "name": "python3"
    },
    "language_info": {
      "codemirror_mode": {
        "name": "ipython",
        "version": 3
      },
      "file_extension": ".py",
      "mimetype": "text/x-python",
      "name": "python",
      "nbconvert_exporter": "python",
      "pygments_lexer": "ipython3",
      "version": "3.9.7"
    },
    "colab": {
      "provenance": [],
      "include_colab_link": true
    }
  },
  "nbformat": 4,
  "nbformat_minor": 0
}