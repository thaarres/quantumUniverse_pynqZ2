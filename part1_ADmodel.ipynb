{
 "cells": [
  {
   "cell_type": "markdown",
   "metadata": {},
   "source": [
    "# How-to: Anomaly detection in nanoseconds on an FPGA\n",
    "\n",
    "<img src=\"images/front.png\" alt=\"The ADC2021 Challenge\" width=\"300\" img align=\"right\"/>\n",
    "\n",
    "In this notebook we will demonstrate how to design a tiny autoencoder (AE) that we will use for anomaly detection in particle physics. More specifically, we will demonstrate how we can use autoencoders to select potentially New Physics enhanced proton collision events in a more unbiased way than with the usual Level-1 trigger algorithms!\n",
    "\n",
    "Some of the key tools we will use in order to make our AE fast and small enought to fit within the strict latency and resource budget of a L1 trigger algorithm are:\n",
    "- Quantization\n",
    "- Pruning\n",
    "- Highly parallel deployment using hls4ml!\n",
    "\n",
    "We will train the autoencoder to learn to compress and decompress data, assuming that for highly anomalous events, the AE will fail.\n",
    "\n",
    "## Dataset\n",
    "\n",
    "As a dataset, we will use the [ADC2021 dataset](https://mpp-hep.github.io/ADC2021/). It is represented as an array of up to 4 e/𝛾, missing transverse energy (MET), 4 μ and 10 jets each described by pT, η and φ to mimic a L1 data format (a total of 57 inputs per event). The particles are ordered by pT. \n",
    "\n",
    "You can train using the provided 4 million background-like events \n",
    "simulated with Delphes, where the events are pre-filtered to have at least one lepton\n",
    "<img src=\"images/datagrid.png\" alt=\"Background data\" width=\"300\" img align=\"right\"/>\n",
    "- Inclusive W production, with W → l𝜈 (59.2%)\n",
    "- Inclusive Z production, with Z → ll (6.7%)\n",
    "- tt production (0.3%)\n",
    "- QCD multijet production (33.8%)\n",
    "\n",
    "You can then evaluate the AE performance on several different New Physics simulated samples: \n",
    "- Neutral scalar boson A, 50 GeV → 4 l \n",
    "- Leptoquark, 80 GeV → b τ \n",
    "- Scalar boson, 60 GeV → τ τ \n",
    "- Charged scalar boson, 60 GeV → τ 𝜈 \n",
    "- Black Box (mix of background and an unknown signal!!)\n",
    "\n",
    "We'll train using all the background data and test using the A (50 GeV) → 4 l sample. Let's fetch them! The background data can be downloaded [here](https://zenodo.org/record/5046389#.YaeRWL3MLze) and the signal data [here](https://zenodo.org/record/5046446#.YaeSa73MLzd). I have already downloaded it and moved it to folder called `data/`.\n",
    "\n",
    "Let's prepare the data! For simplicity, we'll only use a million of the background events. We also flatten the 2D grid into a 1D array to prepare feeding it into a dense network "
   ]
  },
  {
   "cell_type": "code",
   "execution_count": 1,
   "metadata": {},
   "outputs": [
    {
     "name": "stdout",
     "output_type": "stream",
     "text": [
      "Original data shape = (N samples, N particles, N features) =  (4000000, 19, 3)\n",
      "Training data shape =  (640000, 57)\n"
     ]
    }
   ],
   "source": [
    "import h5py\n",
    "import numpy as np\n",
    "from sklearn.model_selection import train_test_split\n",
    "\n",
    "\n",
    "nbkg_events = 1000000\n",
    "# read BACKGROUND data and shuffle it in preparation for training. This takes a while so I've done it in advance!\n",
    "with h5py.File('data/background_for_training.h5', 'r') as file:\n",
    "    full_data = file['Particles'][:,:,:-1]\n",
    "    print(\"Original data shape = (N samples, N particles, N features) = \",full_data.shape)\n",
    "    np.random.shuffle(full_data)\n",
    "    if nbkg_events: full_data = full_data[:nbkg_events,:,:]\n",
    "    \n",
    "        \n",
    "# define training, test and validation datasets\n",
    "X_train, X_test = train_test_split(full_data, test_size=0.2, shuffle=True)\n",
    "X_train, X_val = train_test_split(X_train, test_size=0.2)\n",
    "\n",
    "del full_data\n",
    "\n",
    "input_shape= X_train.shape[1]*X_train.shape[2]\n",
    "# flatten the data for model input\n",
    "X_train = X_train.reshape(X_train.shape[0], input_shape)\n",
    "X_test = X_test.reshape(X_test.shape[0], input_shape)\n",
    "X_val = X_val.reshape(X_val.shape[0], input_shape)\n",
    "print(\"Training data shape = \",X_train.shape)    \n",
    "with h5py.File('bkg_dataset.h5', 'w') as h5f:\n",
    "    h5f.create_dataset('X_train', data = X_train)\n",
    "    h5f.create_dataset('X_test', data = X_test)\n",
    "    h5f.create_dataset('X_val', data = X_val)\n",
    "    \n",
    "with h5py.File('data/Ato4l_lepFilter_13TeV.h5', 'r') as file:\n",
    "    signal_data = file['Particles'][:,:,:-1]\n",
    "    signal_data = signal_data.reshape(signal_data.shape[0],input_shape)\n",
    "with h5py.File('Ato4l_dataset.h5', 'w') as h5f2:\n",
    "    h5f2.create_dataset('Data', data = signal_data)        \n"
   ]
  },
  {
   "cell_type": "markdown",
   "metadata": {},
   "source": [
    "You  now have two new files in your reposity, `bkg_dataset.h5` and `Ato4l_dataset.h5` which contains your train/test/val data to train the autoencoder, as well as a test data to check your performance on a New Physics signal"
   ]
  },
  {
   "cell_type": "code",
   "execution_count": 2,
   "metadata": {},
   "outputs": [
    {
     "name": "stdout",
     "output_type": "stream",
     "text": [
      "['bkg_dataset.h5', 'part3_pynqz2.ipynb', '.DS_Store', 'images', 'Untitled.ipynb', 'prepare_adc_data.py', 'Ato4l_dataset.h5', 'part1_ADmodel.ipynb', 'README.md', 'part2_hls4ml.ipynb', '.gitignore', 'baseline_ae.h5', '.ipynb_checkpoints', '.git', 'data']\n"
     ]
    }
   ],
   "source": [
    "import os\n",
    "\n",
    "files = os.listdir('.')\n",
    "print(files)"
   ]
  },
  {
   "cell_type": "markdown",
   "metadata": {},
   "source": [
    "Let's inspect the training data:"
   ]
  },
  {
   "cell_type": "code",
   "execution_count": 3,
   "metadata": {},
   "outputs": [],
   "source": [
    "with h5py.File('bkg_dataset.h5', 'r') as file:\n",
    "    X_train = np.array(file['X_train'])\n",
    "    X_test = np.array(file['X_test'])\n",
    "    X_val = np.array(file['X_val'])\n",
    "    \n",
    "with h5py.File('Ato4l_dataset.h5', 'r') as file:\n",
    "    signal_test_data = np.array(file['Data'])"
   ]
  },
  {
   "cell_type": "code",
   "execution_count": 4,
   "metadata": {},
   "outputs": [
    {
     "name": "stdout",
     "output_type": "stream",
     "text": [
      " Training (#samples,#features): (640000, 57)\n",
      " Testing  (#samples,#features): (55969, 57)\n",
      "[18.43733406  0.         -2.66409016 30.53505325  2.31486845  0.68392003\n",
      "  0.          0.          0.          0.          0.          0.\n",
      "  0.          0.          0.         18.25468636  1.1769315   1.64127874\n",
      "  0.          0.          0.          0.          0.          0.\n",
      "  0.          0.          0.         39.76318359  2.31548548 -2.58200836\n",
      " 30.53505325  2.31486845  0.68392003  0.          0.          0.\n",
      "  0.          0.          0.          0.          0.          0.\n",
      "  0.          0.          0.          0.          0.          0.\n",
      "  0.          0.          0.          0.          0.          0.\n",
      "  0.          0.          0.        ]\n"
     ]
    },
    {
     "data": {
      "image/png": "[encoded data removed]",
      "text/plain": [
       "<Figure size 576x360 with 2 Axes>"
      ]
     },
     "metadata": {
      "needs_background": "light"
     },
     "output_type": "display_data"
    }
   ],
   "source": [
    "import matplotlib.pyplot as plt\n",
    "\n",
    "print(\" Training (#samples,#features):\", X_train.shape)\n",
    "print(\" Testing  (#samples,#features):\", signal_test_data.shape)\n",
    "\n",
    "fig, axs = plt.subplots(1,2,figsize=(8,5))\n",
    "fig.suptitle('Kinematic distributions in bkg vs signal')\n",
    "\n",
    "axs[0].hist(X_train[:,0],bins=100,label=r'Background',histtype='step', linewidth=2, facecolor='none', edgecolor='green',fill=True,density=True)\n",
    "axs[0].hist(signal_test_data[:,0],bins=100,label=r'Signal',histtype='step', linewidth=2, facecolor='none', edgecolor='orchid',fill=True,density=True)\n",
    "axs[0].semilogy()\n",
    "axs[0].set(xlabel=u'Leading electron $p_{T}$ (GeV)', ylabel='A.U')\n",
    "axs[0].legend(loc='best',frameon=False, ncol=1,fontsize='large')\n",
    "\n",
    "axs[1].hist(X_train[:,15],bins=100,label=r'Background',histtype='step', linewidth=2, facecolor='none', edgecolor='green',fill=True,density=True)\n",
    "axs[1].hist(signal_test_data[:,15],bins=100,label=r'Signal',histtype='step', linewidth=2, facecolor='none', edgecolor='orchid',fill=True,density=True)\n",
    "axs[1].set(xlabel=u'Leading muon $p_{T}$ (GeV)', ylabel='A.U')\n",
    "axs[1].semilogy()\n",
    "axs[1].legend(loc='best',frameon=False, ncol=1,fontsize='large')\n",
    "print(signal_test_data[3])"
   ]
  },
  {
   "cell_type": "markdown",
   "metadata": {},
   "source": [
    "# Defining the autoencoder\n",
    "\n",
    "Now, let's define an autoencoder to learn to reconstruct the training data after compressing it through a bottleneck, then decompressing it again.\n",
    "\n",
    "<img src=\"images/ae.png\" alt=\"The autoencoder\" width=\"800\" img align=\"center\"/>\n",
    "\n",
    "For that, we need a stack of dense layers:"
   ]
  },
  {
   "cell_type": "code",
   "execution_count": 5,
   "metadata": {},
   "outputs": [
    {
     "name": "stdout",
     "output_type": "stream",
     "text": [
      "Model: \"model\"\n",
      "_________________________________________________________________\n",
      " Layer (type)                Output Shape              Param #   \n",
      "=================================================================\n",
      " input_1 (InputLayer)        [(None, 57)]              0         \n",
      "                                                                 \n",
      " batch_normalization (BatchN  (None, 57)               228       \n",
      " ormalization)                                                   \n",
      "                                                                 \n",
      " dense (Dense)               (None, 32)                1856      \n",
      "                                                                 \n",
      " batch_normalization_1 (Batc  (None, 32)               128       \n",
      " hNormalization)                                                 \n",
      "                                                                 \n",
      " leaky_re_lu (LeakyReLU)     (None, 32)                0         \n",
      "                                                                 \n",
      " dense_1 (Dense)             (None, 16)                528       \n",
      "                                                                 \n",
      " batch_normalization_2 (Batc  (None, 16)               64        \n",
      " hNormalization)                                                 \n",
      "                                                                 \n",
      " leaky_re_lu_1 (LeakyReLU)   (None, 16)                0         \n",
      "                                                                 \n",
      " dense_2 (Dense)             (None, 3)                 51        \n",
      "                                                                 \n",
      " dense_3 (Dense)             (None, 16)                64        \n",
      "                                                                 \n",
      " batch_normalization_3 (Batc  (None, 16)               64        \n",
      " hNormalization)                                                 \n",
      "                                                                 \n",
      " leaky_re_lu_2 (LeakyReLU)   (None, 16)                0         \n",
      "                                                                 \n",
      " dense_4 (Dense)             (None, 32)                544       \n",
      "                                                                 \n",
      " batch_normalization_4 (Batc  (None, 32)               128       \n",
      " hNormalization)                                                 \n",
      "                                                                 \n",
      " leaky_re_lu_3 (LeakyReLU)   (None, 32)                0         \n",
      "                                                                 \n",
      " dense_5 (Dense)             (None, 57)                1881      \n",
      "                                                                 \n",
      "=================================================================\n",
      "Total params: 5,536\n",
      "Trainable params: 5,230\n",
      "Non-trainable params: 306\n",
      "_________________________________________________________________\n"
     ]
    },
    {
     "name": "stderr",
     "output_type": "stream",
     "text": [
      "2021-12-01 23:34:39.875363: I tensorflow/core/platform/cpu_feature_guard.cc:151] This TensorFlow binary is optimized with oneAPI Deep Neural Network Library (oneDNN) to use the following CPU instructions in performance-critical operations:  AVX2 FMA\n",
      "To enable them in other operations, rebuild TensorFlow with the appropriate compiler flags.\n"
     ]
    }
   ],
   "source": [
    "import tensorflow as tf\n",
    "from tensorflow.keras.models import Model\n",
    "from tensorflow.keras.layers import Input, Dense, Lambda, BatchNormalization, Activation, Concatenate, Dropout, Layer\n",
    "from tensorflow.keras.layers import ReLU, LeakyReLU\n",
    "\n",
    "input_shape = 57\n",
    "latent_dim = 3\n",
    "#encoder\n",
    "inputArray = Input(shape=(input_shape))\n",
    "x = BatchNormalization()(inputArray)\n",
    "x = Dense(32, kernel_initializer=tf.keras.initializers.HeUniform())(x)\n",
    "x = BatchNormalization()(x)\n",
    "x = LeakyReLU(alpha=0.3)(x)\n",
    "x = Dense(16, kernel_initializer=tf.keras.initializers.HeUniform())(x)\n",
    "x = BatchNormalization()(x)\n",
    "x = LeakyReLU(alpha=0.3)(x)\n",
    "encoder = Dense(latent_dim, kernel_initializer=tf.keras.initializers.HeUniform())(x)\n",
    "\n",
    "#decoder\n",
    "x = Dense(16, kernel_initializer=tf.keras.initializers.HeUniform())(encoder)\n",
    "x = BatchNormalization()(x)\n",
    "x = LeakyReLU(alpha=0.3)(x)\n",
    "x = Dense(32, kernel_initializer=tf.keras.initializers.HeUniform())(x)\n",
    "x = BatchNormalization()(x)\n",
    "x = LeakyReLU(alpha=0.3)(x)\n",
    "decoder = Dense(input_shape, kernel_initializer=tf.keras.initializers.HeUniform())(x)\n",
    "\n",
    "#create autoencoder\n",
    "autoencoder = Model(inputs = inputArray, outputs=decoder)\n",
    "autoencoder.summary()"
   ]
  },
  {
   "cell_type": "code",
   "execution_count": 6,
   "metadata": {},
   "outputs": [],
   "source": [
    "autoencoder.compile(optimizer=tf.keras.optimizers.Adam(learning_rate=0.00001), loss='mse')"
   ]
  },
  {
   "cell_type": "markdown",
   "metadata": {},
   "source": [
    "# Let's train!"
   ]
  },
  {
   "cell_type": "code",
   "execution_count": 7,
   "metadata": {},
   "outputs": [],
   "source": [
    "train = False\n",
    "EPOCHS = 150\n",
    "BATCH_SIZE = 1024\n",
    "\n",
    "from tensorflow.keras.callbacks import EarlyStopping, ReduceLROnPlateau, TerminateOnNaN\n",
    "\n",
    "callbacks=[]\n",
    "callbacks.append(ReduceLROnPlateau(monitor='val_loss',  factor=0.1, patience=2, verbose=1, mode='auto', min_delta=0.0001, cooldown=2, min_lr=1E-6))\n",
    "callbacks.append(TerminateOnNaN())\n",
    "callbacks.append(tf.keras.callbacks.EarlyStopping(monitor='val_loss',verbose=1, patience=10, restore_best_weights=True))\n",
    "\n",
    "if train:\n",
    "    history = autoencoder.fit(X_train, X_train, epochs = EPOCHS, batch_size = BATCH_SIZE,\n",
    "                  validation_data=(X_val, X_val),\n",
    "                  callbacks=callbacks)\n",
    "    # Save the model\n",
    "    autoencoder.save('baseline_ae.h5')\n",
    "    \n",
    "else:\n",
    "    autoencoder = tf.keras.models.load_model('baseline_ae.h5')"
   ]
  },
  {
   "cell_type": "markdown",
   "metadata": {},
   "source": [
    "# Evaluating the model performance\n",
    "\n",
    "Remember that the key metric we use for anomaly detection is the mean-squared-error: If the error is high, the data is more likely to be anomalous, and if the error is low, the data is similar to the training data (which in our case is SM events). We therefore first need to run `model.predict()` in order to get the AE reconstructed output, both for our vanilla SM test data, and for our new leptoquark signal!"
   ]
  },
  {
   "cell_type": "code",
   "execution_count": 8,
   "metadata": {},
   "outputs": [],
   "source": [
    "bkg_prediction = autoencoder.predict(X_test)\n",
    "signal_prediction = autoencoder.predict(signal_test_data)"
   ]
  },
  {
   "cell_type": "markdown",
   "metadata": {},
   "source": [
    "We then need to compute the mean-square-error, which will be our final discriminating variable"
   ]
  },
  {
   "cell_type": "code",
   "execution_count": 9,
   "metadata": {},
   "outputs": [],
   "source": [
    "def mse_loss(true, prediction):\n",
    "    loss = tf.reduce_mean(tf.math.square(true - prediction),axis=-1)\n",
    "    return loss\n",
    "\n",
    "# compute loss value of input data versus AE reconstructed data\n",
    "mse_sm = mse_loss(X_test, bkg_prediction.astype(np.float32)).numpy()\n",
    "mse_bsm = mse_loss(signal_test_data,signal_prediction.astype(np.float32)).numpy()"
   ]
  },
  {
   "cell_type": "markdown",
   "metadata": {},
   "source": [
    "Now, let's look at our discriminant!"
   ]
  },
  {
   "cell_type": "code",
   "execution_count": 10,
   "metadata": {},
   "outputs": [
    {
     "data": {
      "image/png": "[encoded data removed]",
      "text/plain": [
       "<Figure size 576x576 with 1 Axes>"
      ]
     },
     "metadata": {
      "needs_background": "light"
     },
     "output_type": "display_data"
    }
   ],
   "source": [
    "bin_size=100\n",
    "\n",
    "plt.figure(figsize=(8,8))\n",
    "plt.hist(mse_sm, bins=bin_size, label=\"SM Background\", density = True, histtype='step', fill=False, edgecolor='green', linewidth=1.5)\n",
    "plt.hist(mse_bsm, bins=bin_size, label=\"Leptoquark\", density = True, histtype='step', fill=False, edgecolor='orchid', linewidth=1.5)\n",
    "plt.yscale('log')\n",
    "plt.xlabel(\"Mean-squared-error\")\n",
    "plt.ylabel(\"Probability (a.u.)\")\n",
    "plt.legend(loc='best')\n",
    "plt.show()"
   ]
  },
  {
   "cell_type": "markdown",
   "metadata": {},
   "source": [
    "There seems to be some discrimination power if we cut at very high values of the MSE! Let's look at a ROC curve to make it easier to vizualize"
   ]
  },
  {
   "cell_type": "code",
   "execution_count": 11,
   "metadata": {},
   "outputs": [
    {
     "data": {
      "image/png": "[encoded data removed]",
      "text/plain": [
       "<Figure size 576x576 with 1 Axes>"
      ]
     },
     "metadata": {
      "needs_background": "light"
     },
     "output_type": "display_data"
    }
   ],
   "source": [
    "from sklearn.metrics import roc_curve, auc\n",
    "\n",
    "target_background = np.zeros(mse_sm.shape[0])\n",
    "\n",
    "plt.figure(figsize=(8,8))\n",
    "trueVal = np.concatenate((np.ones(mse_bsm.shape[0]), target_background)) # anomaly=1, bkg=0\n",
    "predVal_loss = np.concatenate((mse_bsm, mse_sm))\n",
    "\n",
    "fpr_loss, tpr_loss, threshold_loss = roc_curve(trueVal, predVal_loss)\n",
    "\n",
    "auc_loss = auc(fpr_loss, tpr_loss)\n",
    "    \n",
    "plt.plot(fpr_loss, tpr_loss, \"-\", label='Leptoquark (auc = %.1f%%)'%(auc_loss*100.), linewidth=1.5, color = \"orchid\")\n",
    "    \n",
    "plt.semilogx()\n",
    "plt.semilogy()\n",
    "plt.ylabel(\"True Positive Rate\")\n",
    "plt.xlabel(\"False Positive Rate\")\n",
    "plt.legend(loc='center right')\n",
    "plt.grid(True)\n",
    "plt.tight_layout()\n",
    "plt.plot(np.linspace(0, 1),np.linspace(0, 1), '--', color='0.75')\n",
    "plt.axvline(0.00001, color='green', linestyle='dashed', linewidth=2) # threshold value for measuring anomaly detection efficiency\n",
    "plt.show()"
   ]
  },
  {
   "cell_type": "markdown",
   "metadata": {},
   "source": [
    "Pretty good! So at a false positive rate of 10E-5, the signal efficiency is almost three orders of magnitude higher! This can obviously be further improved, but I leave that up to you :)"
   ]
  },
  {
   "cell_type": "markdown",
   "metadata": {},
   "source": [
    "## Model compression\n",
    "\n",
    "Now, there is absolutely no way anyone would let you deploy this model on an FPGA in the trigger. It will use far too many resources! Luckily, as we discussed in the lecture, there are some cheap tricks you can perform to compress the model. These are pruning and quantization-aware-training and both are very easily implemented. Let's have a look.\n",
    "\n",
    "To quantize the model during training, such that the network will get the opportunity to adapt to the narrower bitwidth we use the library [QKeras](https://www.nature.com/articles/s42256-021-00356-5.epdf?sharing_token=A6MQVmmncHNyCtDUXzrqtNRgN0jAjWel9jnR3ZoTv0N3uekY-CrHD1aJ9BTeJNRfQ1EhZ9jJIhgZjfrQxrmxMLMZ4eGzSeru7-ASFE-Xt3NVE6yorlffwUN0muAm1auU2I6-5ug4bOLCRYvA0mp-iT-OdPsrBYeH0IHRYx0t3wc%3D), developed in a joint effort between CERN and Google."
   ]
  },
  {
   "cell_type": "code",
   "execution_count": 15,
   "metadata": {},
   "outputs": [
    {
     "name": "stdout",
     "output_type": "stream",
     "text": [
      "Model: \"model_2\"\n",
      "_________________________________________________________________\n",
      " Layer (type)                Output Shape              Param #   \n",
      "=================================================================\n",
      " input_5 (InputLayer)        [(None, 57)]              0         \n",
      "                                                                 \n",
      " batch_normalization_19 (Bat  (None, 57)               228       \n",
      " chNormalization)                                                \n",
      "                                                                 \n",
      " q_dense_15 (QDense)         (None, 32)                1856      \n",
      "                                                                 \n",
      " batch_normalization_20 (Bat  (None, 32)               128       \n",
      " chNormalization)                                                \n",
      "                                                                 \n",
      " q_activation_11 (QActivatio  (None, 32)               0         \n",
      " n)                                                              \n",
      "                                                                 \n",
      " q_dense_16 (QDense)         (None, 16)                528       \n",
      "                                                                 \n",
      " batch_normalization_21 (Bat  (None, 16)               64        \n",
      " chNormalization)                                                \n",
      "                                                                 \n",
      " q_activation_12 (QActivatio  (None, 16)               0         \n",
      " n)                                                              \n",
      "                                                                 \n",
      " q_dense_17 (QDense)         (None, 3)                 51        \n",
      "                                                                 \n",
      " q_dense_18 (QDense)         (None, 16)                64        \n",
      "                                                                 \n",
      " batch_normalization_22 (Bat  (None, 16)               64        \n",
      " chNormalization)                                                \n",
      "                                                                 \n",
      " q_activation_13 (QActivatio  (None, 16)               0         \n",
      " n)                                                              \n",
      "                                                                 \n",
      " q_dense_19 (QDense)         (None, 32)                544       \n",
      "                                                                 \n",
      " batch_normalization_23 (Bat  (None, 32)               128       \n",
      " chNormalization)                                                \n",
      "                                                                 \n",
      " q_activation_14 (QActivatio  (None, 32)               0         \n",
      " n)                                                              \n",
      "                                                                 \n",
      " q_dense_20 (QDense)         (None, 57)                1881      \n",
      "                                                                 \n",
      "=================================================================\n",
      "Total params: 5,536\n",
      "Trainable params: 5,230\n",
      "Non-trainable params: 306\n",
      "_________________________________________________________________\n"
     ]
    }
   ],
   "source": [
    "from qkeras import QDense, QActivation\n",
    "\n",
    "#encoder\n",
    "inputArray = Input(shape=(input_shape))\n",
    "x = BatchNormalization()(inputArray)\n",
    "x = QDense(32, kernel_initializer=tf.keras.initializers.HeUniform(),\n",
    "               kernel_quantizer='quantized_bits(8,0,1, alpha=1.0)',\n",
    "               bias_quantizer='quantized_bits(8,0,1, alpha=1.0)')(x)\n",
    "x = BatchNormalization()(x)\n",
    "x = QActivation('quantized_relu(bits=8)')(x)\n",
    "x = QDense(16, kernel_initializer=tf.keras.initializers.HeUniform(),\n",
    "               kernel_quantizer='quantized_bits(8,0,1, alpha=1.0)',\n",
    "               bias_quantizer='quantized_bits(8,0,1, alpha=1.0)')(x)\n",
    "x = BatchNormalization()(x)\n",
    "x = QActivation('quantized_relu(bits=8)')(x)\n",
    "encoder = QDense(latent_dim, kernel_initializer=tf.keras.initializers.HeUniform(),\n",
    "               kernel_quantizer='quantized_bits(8,0,1, alpha=1.0)',\n",
    "               bias_quantizer='quantized_bits(8,0,1, alpha=1.0)')(x)\n",
    "\n",
    "#decoder\n",
    "x = QDense(16, kernel_initializer=tf.keras.initializers.HeUniform(),\n",
    "               kernel_quantizer='quantized_bits(8,0,1, alpha=1.0)',\n",
    "               bias_quantizer='quantized_bits(8,0,1, alpha=1.0)')(encoder)\n",
    "x = BatchNormalization()(x)\n",
    "x = QActivation('quantized_relu(bits=8)')(x)\n",
    "x = QDense(32, kernel_initializer=tf.keras.initializers.HeUniform(),\n",
    "               kernel_quantizer='quantized_bits(8,0,1, alpha=1.0)',\n",
    "               bias_quantizer='quantized_bits(8,0,1, alpha=1.0)')(x)\n",
    "x = BatchNormalization()(x)\n",
    "x = QActivation('quantized_relu(bits=8)')(x)\n",
    "decoder = QDense(input_shape, kernel_initializer=tf.keras.initializers.HeUniform(),\n",
    "               kernel_quantizer='quantized_bits(8,0,1, alpha=1.0)',\n",
    "               bias_quantizer='quantized_bits(8,0,1, alpha=1.0)')(x)\n",
    "\n",
    "#create autoencoder\n",
    "q_autoencoder = Model(inputs = inputArray, outputs=decoder)\n",
    "q_autoencoder.summary()"
   ]
  },
  {
   "cell_type": "markdown",
   "metadata": {},
   "source": [
    "Easy as that! Let's add some pruning on top, 50% sparsity (removing half of the weights):"
   ]
  },
  {
   "cell_type": "code",
   "execution_count": 16,
   "metadata": {},
   "outputs": [
    {
     "name": "stderr",
     "output_type": "stream",
     "text": [
      "/Users/thea/miniconda3/envs/ad_pynq/lib/python3.9/site-packages/tensorflow_model_optimization/python/core/sparsity/keras/pruning_wrapper.py:233: UserWarning: `layer.add_variable` is deprecated and will be removed in a future version. Please use `layer.add_weight` method instead.\n",
      "  self.pruning_step = self.add_variable(\n",
      "/Users/thea/miniconda3/envs/ad_pynq/lib/python3.9/site-packages/tensorflow_model_optimization/python/core/sparsity/keras/pruning_wrapper.py:212: UserWarning: `layer.add_variable` is deprecated and will be removed in a future version. Please use `layer.add_weight` method instead.\n",
      "  mask = self.add_variable(\n",
      "/Users/thea/miniconda3/envs/ad_pynq/lib/python3.9/site-packages/tensorflow_model_optimization/python/core/sparsity/keras/pruning_wrapper.py:219: UserWarning: `layer.add_variable` is deprecated and will be removed in a future version. Please use `layer.add_weight` method instead.\n",
      "  threshold = self.add_variable(\n"
     ]
    }
   ],
   "source": [
    "from tensorflow_model_optimization.python.core.sparsity.keras import prune, pruning_callbacks, pruning_schedule\n",
    "from tensorflow_model_optimization.sparsity.keras import strip_pruning\n",
    "pruning_params = {\"pruning_schedule\" : pruning_schedule.ConstantSparsity(0.75, begin_step=2000, frequency=100)}\n",
    "model = prune.prune_low_magnitude(q_autoencoder, **pruning_params)"
   ]
  },
  {
   "cell_type": "code",
   "execution_count": 19,
   "metadata": {},
   "outputs": [
    {
     "name": "stdout",
     "output_type": "stream",
     "text": [
      "Epoch 1/150\n",
      "625/625 [==============================] - 5s 5ms/step - loss: 86.4387 - val_loss: 86.1441 - lr: 1.0000e-05\n",
      "Epoch 2/150\n",
      "625/625 [==============================] - 3s 4ms/step - loss: 85.8556 - val_loss: 85.5851 - lr: 1.0000e-05\n",
      "Epoch 3/150\n",
      "625/625 [==============================] - 3s 4ms/step - loss: 85.3073 - val_loss: 85.0337 - lr: 1.0000e-05\n",
      "Epoch 4/150\n",
      "625/625 [==============================] - 3s 4ms/step - loss: 84.7734 - val_loss: 84.5326 - lr: 1.0000e-05\n",
      "Epoch 5/150\n",
      "625/625 [==============================] - 3s 4ms/step - loss: 84.2731 - val_loss: 84.0102 - lr: 1.0000e-05\n",
      "Epoch 6/150\n",
      "625/625 [==============================] - 3s 4ms/step - loss: 83.7607 - val_loss: 83.4818 - lr: 1.0000e-05\n",
      "Epoch 7/150\n",
      "625/625 [==============================] - 3s 4ms/step - loss: 83.2591 - val_loss: 82.9492 - lr: 1.0000e-05\n",
      "Epoch 8/150\n",
      "625/625 [==============================] - 3s 4ms/step - loss: 82.7482 - val_loss: 82.4766 - lr: 1.0000e-05\n",
      "Epoch 9/150\n",
      "625/625 [==============================] - 3s 5ms/step - loss: 82.2367 - val_loss: 81.9557 - lr: 1.0000e-05\n",
      "Epoch 10/150\n",
      "625/625 [==============================] - 3s 5ms/step - loss: 81.7357 - val_loss: 81.4251 - lr: 1.0000e-05\n",
      "Epoch 11/150\n",
      "625/625 [==============================] - 3s 5ms/step - loss: 81.2351 - val_loss: 80.9346 - lr: 1.0000e-05\n",
      "Epoch 12/150\n",
      "625/625 [==============================] - 3s 5ms/step - loss: 80.7355 - val_loss: 80.4358 - lr: 1.0000e-05\n",
      "Epoch 13/150\n",
      "625/625 [==============================] - 3s 5ms/step - loss: 80.2366 - val_loss: 79.9588 - lr: 1.0000e-05\n",
      "Epoch 14/150\n",
      "625/625 [==============================] - 3s 5ms/step - loss: 79.7651 - val_loss: 79.5014 - lr: 1.0000e-05\n",
      "Epoch 15/150\n",
      "625/625 [==============================] - 3s 5ms/step - loss: 79.3220 - val_loss: 79.0598 - lr: 1.0000e-05\n",
      "Epoch 16/150\n",
      "625/625 [==============================] - 3s 5ms/step - loss: 78.8950 - val_loss: 78.6298 - lr: 1.0000e-05\n",
      "Epoch 17/150\n",
      "625/625 [==============================] - 3s 5ms/step - loss: 78.4758 - val_loss: 78.2330 - lr: 1.0000e-05\n",
      "Epoch 18/150\n",
      "625/625 [==============================] - 3s 5ms/step - loss: 78.0524 - val_loss: 77.8168 - lr: 1.0000e-05\n",
      "Epoch 19/150\n",
      "625/625 [==============================] - 3s 5ms/step - loss: 77.6291 - val_loss: 77.4110 - lr: 1.0000e-05\n",
      "Epoch 20/150\n",
      "625/625 [==============================] - 3s 5ms/step - loss: 77.2024 - val_loss: 76.9650 - lr: 1.0000e-05\n",
      "Epoch 21/150\n",
      "625/625 [==============================] - 3s 5ms/step - loss: 76.7812 - val_loss: 76.5143 - lr: 1.0000e-05\n",
      "Epoch 22/150\n",
      "625/625 [==============================] - 3s 5ms/step - loss: 76.3453 - val_loss: 76.0947 - lr: 1.0000e-05\n",
      "Epoch 23/150\n",
      "625/625 [==============================] - 3s 5ms/step - loss: 75.8962 - val_loss: 75.6503 - lr: 1.0000e-05\n",
      "Epoch 24/150\n",
      "625/625 [==============================] - 3s 5ms/step - loss: 75.4367 - val_loss: 75.1865 - lr: 1.0000e-05\n",
      "Epoch 25/150\n",
      "625/625 [==============================] - 3s 5ms/step - loss: 74.9716 - val_loss: 74.7233 - lr: 1.0000e-05\n",
      "Epoch 26/150\n",
      "625/625 [==============================] - 3s 5ms/step - loss: 74.5174 - val_loss: 74.2458 - lr: 1.0000e-05\n",
      "Epoch 27/150\n",
      "625/625 [==============================] - 3s 5ms/step - loss: 74.0665 - val_loss: 73.7994 - lr: 1.0000e-05\n",
      "Epoch 28/150\n",
      "625/625 [==============================] - 3s 5ms/step - loss: 73.6102 - val_loss: 73.3565 - lr: 1.0000e-05\n",
      "Epoch 29/150\n",
      "625/625 [==============================] - 3s 5ms/step - loss: 73.1730 - val_loss: 72.9077 - lr: 1.0000e-05\n",
      "Epoch 30/150\n",
      "625/625 [==============================] - 3s 4ms/step - loss: 72.7277 - val_loss: 72.4669 - lr: 1.0000e-05\n",
      "Epoch 31/150\n",
      "625/625 [==============================] - 3s 5ms/step - loss: 72.2820 - val_loss: 72.0098 - lr: 1.0000e-05\n",
      "Epoch 32/150\n",
      "625/625 [==============================] - 3s 6ms/step - loss: 71.8354 - val_loss: 71.5838 - lr: 1.0000e-05\n",
      "Epoch 33/150\n",
      "625/625 [==============================] - 3s 5ms/step - loss: 71.3887 - val_loss: 71.1277 - lr: 1.0000e-05\n",
      "Epoch 34/150\n",
      "625/625 [==============================] - 3s 5ms/step - loss: 70.9509 - val_loss: 70.6721 - lr: 1.0000e-05\n",
      "Epoch 35/150\n",
      "625/625 [==============================] - 3s 5ms/step - loss: 70.5157 - val_loss: 70.2796 - lr: 1.0000e-05\n",
      "Epoch 36/150\n",
      "625/625 [==============================] - 3s 5ms/step - loss: 70.0910 - val_loss: 69.8200 - lr: 1.0000e-05\n",
      "Epoch 37/150\n",
      "625/625 [==============================] - 3s 5ms/step - loss: 69.6747 - val_loss: 69.4349 - lr: 1.0000e-05\n",
      "Epoch 38/150\n",
      "625/625 [==============================] - 3s 5ms/step - loss: 69.2583 - val_loss: 69.0006 - lr: 1.0000e-05\n",
      "Epoch 39/150\n",
      "625/625 [==============================] - 3s 6ms/step - loss: 68.8548 - val_loss: 68.6062 - lr: 1.0000e-05\n",
      "Epoch 40/150\n",
      "625/625 [==============================] - 3s 5ms/step - loss: 68.4487 - val_loss: 68.2122 - lr: 1.0000e-05\n",
      "Epoch 41/150\n",
      "625/625 [==============================] - 3s 5ms/step - loss: 68.0561 - val_loss: 67.8046 - lr: 1.0000e-05\n",
      "Epoch 42/150\n",
      "625/625 [==============================] - 3s 5ms/step - loss: 67.6646 - val_loss: 67.4287 - lr: 1.0000e-05\n",
      "Epoch 43/150\n",
      "625/625 [==============================] - 3s 5ms/step - loss: 67.2837 - val_loss: 67.0412 - lr: 1.0000e-05\n",
      "Epoch 44/150\n",
      "625/625 [==============================] - 3s 5ms/step - loss: 66.9041 - val_loss: 66.6658 - lr: 1.0000e-05\n",
      "Epoch 45/150\n",
      "625/625 [==============================] - 3s 5ms/step - loss: 66.5272 - val_loss: 66.2914 - lr: 1.0000e-05\n",
      "Epoch 46/150\n",
      "625/625 [==============================] - 3s 5ms/step - loss: 66.1588 - val_loss: 65.9324 - lr: 1.0000e-05\n",
      "Epoch 47/150\n",
      "625/625 [==============================] - 3s 5ms/step - loss: 65.7944 - val_loss: 65.5692 - lr: 1.0000e-05\n",
      "Epoch 48/150\n",
      "625/625 [==============================] - 3s 4ms/step - loss: 65.4337 - val_loss: 65.2130 - lr: 1.0000e-05\n",
      "Epoch 49/150\n",
      "625/625 [==============================] - 3s 4ms/step - loss: 65.0767 - val_loss: 64.8493 - lr: 1.0000e-05\n",
      "Epoch 50/150\n",
      "625/625 [==============================] - 3s 5ms/step - loss: 64.7299 - val_loss: 64.5092 - lr: 1.0000e-05\n",
      "Epoch 51/150\n",
      "625/625 [==============================] - 3s 5ms/step - loss: 64.3812 - val_loss: 64.1790 - lr: 1.0000e-05\n",
      "Epoch 52/150\n",
      "625/625 [==============================] - 3s 5ms/step - loss: 64.0370 - val_loss: 63.8319 - lr: 1.0000e-05\n",
      "Epoch 53/150\n",
      "625/625 [==============================] - 3s 5ms/step - loss: 63.6957 - val_loss: 63.5036 - lr: 1.0000e-05\n",
      "Epoch 54/150\n",
      "625/625 [==============================] - 3s 5ms/step - loss: 63.3564 - val_loss: 63.1418 - lr: 1.0000e-05\n",
      "Epoch 55/150\n",
      "625/625 [==============================] - 3s 5ms/step - loss: 63.0225 - val_loss: 62.8059 - lr: 1.0000e-05\n",
      "Epoch 56/150\n",
      "625/625 [==============================] - 3s 5ms/step - loss: 62.6747 - val_loss: 62.4704 - lr: 1.0000e-05\n",
      "Epoch 57/150\n",
      "625/625 [==============================] - 3s 5ms/step - loss: 62.3163 - val_loss: 62.1047 - lr: 1.0000e-05\n",
      "Epoch 58/150\n",
      "625/625 [==============================] - 3s 6ms/step - loss: 61.9441 - val_loss: 61.7334 - lr: 1.0000e-05\n",
      "Epoch 59/150\n",
      "625/625 [==============================] - 3s 6ms/step - loss: 61.5621 - val_loss: 61.3200 - lr: 1.0000e-05\n",
      "Epoch 60/150\n",
      "625/625 [==============================] - 4s 6ms/step - loss: 61.1761 - val_loss: 60.9463 - lr: 1.0000e-05\n",
      "Epoch 61/150\n",
      "625/625 [==============================] - 4s 6ms/step - loss: 60.7934 - val_loss: 60.5680 - lr: 1.0000e-05\n",
      "Epoch 62/150\n",
      "625/625 [==============================] - 3s 5ms/step - loss: 60.4192 - val_loss: 60.1890 - lr: 1.0000e-05\n",
      "Epoch 63/150\n",
      "625/625 [==============================] - 4s 6ms/step - loss: 60.0605 - val_loss: 59.8228 - lr: 1.0000e-05\n",
      "Epoch 64/150\n",
      "625/625 [==============================] - 4s 6ms/step - loss: 59.7071 - val_loss: 59.4685 - lr: 1.0000e-05\n",
      "Epoch 65/150\n",
      "625/625 [==============================] - 4s 6ms/step - loss: 59.3585 - val_loss: 59.1543 - lr: 1.0000e-05\n",
      "Epoch 66/150\n",
      "625/625 [==============================] - 3s 5ms/step - loss: 59.0114 - val_loss: 58.8090 - lr: 1.0000e-05\n",
      "Epoch 67/150\n",
      "625/625 [==============================] - 3s 5ms/step - loss: 58.6661 - val_loss: 58.4541 - lr: 1.0000e-05\n",
      "Epoch 68/150\n",
      "625/625 [==============================] - 3s 5ms/step - loss: 58.3275 - val_loss: 58.0968 - lr: 1.0000e-05\n"
     ]
    },
    {
     "name": "stdout",
     "output_type": "stream",
     "text": [
      "Epoch 69/150\n",
      "625/625 [==============================] - 3s 5ms/step - loss: 57.9895 - val_loss: 57.7485 - lr: 1.0000e-05\n",
      "Epoch 70/150\n",
      "625/625 [==============================] - 3s 5ms/step - loss: 57.6473 - val_loss: 57.4394 - lr: 1.0000e-05\n",
      "Epoch 71/150\n",
      "625/625 [==============================] - 3s 5ms/step - loss: 57.3093 - val_loss: 57.0962 - lr: 1.0000e-05\n",
      "Epoch 72/150\n",
      "625/625 [==============================] - 3s 5ms/step - loss: 56.9836 - val_loss: 56.7634 - lr: 1.0000e-05\n",
      "Epoch 73/150\n",
      "625/625 [==============================] - 3s 5ms/step - loss: 56.6535 - val_loss: 56.4057 - lr: 1.0000e-05\n",
      "Epoch 74/150\n",
      "625/625 [==============================] - 3s 5ms/step - loss: 56.3221 - val_loss: 56.1080 - lr: 1.0000e-05\n",
      "Epoch 75/150\n",
      "625/625 [==============================] - 3s 5ms/step - loss: 55.9915 - val_loss: 55.7800 - lr: 1.0000e-05\n",
      "Epoch 76/150\n",
      "625/625 [==============================] - 3s 5ms/step - loss: 55.6673 - val_loss: 55.4302 - lr: 1.0000e-05\n",
      "Epoch 77/150\n",
      "625/625 [==============================] - 3s 5ms/step - loss: 55.3497 - val_loss: 55.1216 - lr: 1.0000e-05\n",
      "Epoch 78/150\n",
      "625/625 [==============================] - 3s 5ms/step - loss: 55.0293 - val_loss: 54.7906 - lr: 1.0000e-05\n",
      "Epoch 79/150\n",
      "625/625 [==============================] - 3s 5ms/step - loss: 54.7087 - val_loss: 54.5080 - lr: 1.0000e-05\n",
      "Epoch 80/150\n",
      "625/625 [==============================] - 3s 5ms/step - loss: 54.3951 - val_loss: 54.1727 - lr: 1.0000e-05\n",
      "Epoch 81/150\n",
      "625/625 [==============================] - 3s 5ms/step - loss: 54.0817 - val_loss: 53.8496 - lr: 1.0000e-05\n",
      "Epoch 82/150\n",
      "625/625 [==============================] - 3s 5ms/step - loss: 53.7715 - val_loss: 53.5538 - lr: 1.0000e-05\n",
      "Epoch 83/150\n",
      "625/625 [==============================] - 3s 5ms/step - loss: 53.4651 - val_loss: 53.2226 - lr: 1.0000e-05\n",
      "Epoch 84/150\n",
      "625/625 [==============================] - 3s 5ms/step - loss: 53.1545 - val_loss: 52.9513 - lr: 1.0000e-05\n",
      "Epoch 85/150\n",
      "625/625 [==============================] - 3s 5ms/step - loss: 52.8432 - val_loss: 52.6334 - lr: 1.0000e-05\n",
      "Epoch 86/150\n",
      "625/625 [==============================] - 3s 5ms/step - loss: 52.5457 - val_loss: 52.3138 - lr: 1.0000e-05\n",
      "Epoch 87/150\n",
      "625/625 [==============================] - 3s 5ms/step - loss: 52.2501 - val_loss: 52.0206 - lr: 1.0000e-05\n",
      "Epoch 88/150\n",
      "625/625 [==============================] - 3s 5ms/step - loss: 51.9546 - val_loss: 51.7223 - lr: 1.0000e-05\n",
      "Epoch 89/150\n",
      "625/625 [==============================] - 3s 5ms/step - loss: 51.6549 - val_loss: 51.4463 - lr: 1.0000e-05\n",
      "Epoch 90/150\n",
      "625/625 [==============================] - 3s 5ms/step - loss: 51.3576 - val_loss: 51.1496 - lr: 1.0000e-05\n",
      "Epoch 91/150\n",
      "625/625 [==============================] - 3s 5ms/step - loss: 51.0740 - val_loss: 50.8383 - lr: 1.0000e-05\n",
      "Epoch 92/150\n",
      "625/625 [==============================] - 3s 5ms/step - loss: 50.7829 - val_loss: 50.5664 - lr: 1.0000e-05\n",
      "Epoch 93/150\n",
      "625/625 [==============================] - 3s 5ms/step - loss: 50.5002 - val_loss: 50.2820 - lr: 1.0000e-05\n",
      "Epoch 94/150\n",
      "625/625 [==============================] - 3s 5ms/step - loss: 50.2198 - val_loss: 50.0288 - lr: 1.0000e-05\n",
      "Epoch 95/150\n",
      "625/625 [==============================] - 3s 5ms/step - loss: 49.9440 - val_loss: 49.7423 - lr: 1.0000e-05\n",
      "Epoch 96/150\n",
      "625/625 [==============================] - 3s 5ms/step - loss: 49.6789 - val_loss: 49.4605 - lr: 1.0000e-05\n",
      "Epoch 97/150\n",
      "625/625 [==============================] - 3s 5ms/step - loss: 49.4234 - val_loss: 49.2131 - lr: 1.0000e-05\n",
      "Epoch 98/150\n",
      "625/625 [==============================] - 3s 5ms/step - loss: 49.1645 - val_loss: 48.9641 - lr: 1.0000e-05\n",
      "Epoch 99/150\n",
      "625/625 [==============================] - 4s 7ms/step - loss: 48.9062 - val_loss: 48.7254 - lr: 1.0000e-05\n",
      "Epoch 100/150\n",
      "625/625 [==============================] - 3s 5ms/step - loss: 48.6599 - val_loss: 48.4747 - lr: 1.0000e-05\n",
      "Epoch 101/150\n",
      "625/625 [==============================] - 3s 5ms/step - loss: 48.4128 - val_loss: 48.1986 - lr: 1.0000e-05\n",
      "Epoch 102/150\n",
      "625/625 [==============================] - 3s 5ms/step - loss: 48.1654 - val_loss: 47.9612 - lr: 1.0000e-05\n",
      "Epoch 103/150\n",
      "625/625 [==============================] - 3s 5ms/step - loss: 47.9213 - val_loss: 47.7375 - lr: 1.0000e-05\n",
      "Epoch 104/150\n",
      "625/625 [==============================] - 3s 5ms/step - loss: 47.6763 - val_loss: 47.5135 - lr: 1.0000e-05\n",
      "Epoch 105/150\n",
      "625/625 [==============================] - 3s 4ms/step - loss: 47.4421 - val_loss: 47.2652 - lr: 1.0000e-05\n",
      "Epoch 106/150\n",
      "625/625 [==============================] - 3s 5ms/step - loss: 47.2141 - val_loss: 47.0111 - lr: 1.0000e-05\n",
      "Epoch 107/150\n",
      "625/625 [==============================] - 3s 4ms/step - loss: 46.9835 - val_loss: 46.7732 - lr: 1.0000e-05\n",
      "Epoch 108/150\n",
      "625/625 [==============================] - 3s 4ms/step - loss: 46.7525 - val_loss: 46.5684 - lr: 1.0000e-05\n",
      "Epoch 109/150\n",
      "625/625 [==============================] - 3s 4ms/step - loss: 46.5125 - val_loss: 46.3270 - lr: 1.0000e-05\n",
      "Epoch 110/150\n",
      "625/625 [==============================] - 3s 4ms/step - loss: 46.2782 - val_loss: 46.0776 - lr: 1.0000e-05\n",
      "Epoch 111/150\n",
      "625/625 [==============================] - 3s 4ms/step - loss: 46.0405 - val_loss: 45.8345 - lr: 1.0000e-05\n",
      "Epoch 112/150\n",
      "625/625 [==============================] - 3s 4ms/step - loss: 45.8061 - val_loss: 45.5856 - lr: 1.0000e-05\n",
      "Epoch 113/150\n",
      "625/625 [==============================] - 3s 4ms/step - loss: 45.5836 - val_loss: 45.3952 - lr: 1.0000e-05\n",
      "Epoch 114/150\n",
      "625/625 [==============================] - 3s 4ms/step - loss: 45.3574 - val_loss: 45.1629 - lr: 1.0000e-05\n",
      "Epoch 115/150\n",
      "625/625 [==============================] - 3s 4ms/step - loss: 45.1425 - val_loss: 44.9445 - lr: 1.0000e-05\n",
      "Epoch 116/150\n",
      "625/625 [==============================] - 3s 4ms/step - loss: 44.9251 - val_loss: 44.7130 - lr: 1.0000e-05\n",
      "Epoch 117/150\n",
      "625/625 [==============================] - 3s 4ms/step - loss: 44.7004 - val_loss: 44.4819 - lr: 1.0000e-05\n",
      "Epoch 118/150\n",
      "625/625 [==============================] - 3s 4ms/step - loss: 44.4716 - val_loss: 44.2604 - lr: 1.0000e-05\n",
      "Epoch 119/150\n",
      "625/625 [==============================] - 3s 4ms/step - loss: 44.2320 - val_loss: 44.0062 - lr: 1.0000e-05\n",
      "Epoch 120/150\n",
      "625/625 [==============================] - 3s 4ms/step - loss: 43.9791 - val_loss: 43.7504 - lr: 1.0000e-05\n",
      "Epoch 121/150\n",
      "625/625 [==============================] - 3s 4ms/step - loss: 43.7425 - val_loss: 43.5159 - lr: 1.0000e-05\n",
      "Epoch 122/150\n",
      "625/625 [==============================] - 3s 5ms/step - loss: 43.5129 - val_loss: 43.2865 - lr: 1.0000e-05\n",
      "Epoch 123/150\n",
      "625/625 [==============================] - 3s 5ms/step - loss: 43.2987 - val_loss: 43.1024 - lr: 1.0000e-05\n",
      "Epoch 124/150\n",
      "625/625 [==============================] - 3s 5ms/step - loss: 43.1021 - val_loss: 42.9064 - lr: 1.0000e-05\n",
      "Epoch 125/150\n",
      "625/625 [==============================] - 3s 5ms/step - loss: 42.9129 - val_loss: 42.7081 - lr: 1.0000e-05\n",
      "Epoch 126/150\n",
      "625/625 [==============================] - 3s 5ms/step - loss: 42.7259 - val_loss: 42.5288 - lr: 1.0000e-05\n",
      "Epoch 127/150\n",
      "625/625 [==============================] - 3s 5ms/step - loss: 42.5416 - val_loss: 42.3479 - lr: 1.0000e-05\n",
      "Epoch 128/150\n",
      "625/625 [==============================] - 3s 5ms/step - loss: 42.3557 - val_loss: 42.1745 - lr: 1.0000e-05\n",
      "Epoch 129/150\n",
      "625/625 [==============================] - 3s 5ms/step - loss: 42.1797 - val_loss: 42.0036 - lr: 1.0000e-05\n",
      "Epoch 130/150\n",
      "625/625 [==============================] - 3s 4ms/step - loss: 42.0044 - val_loss: 41.8272 - lr: 1.0000e-05\n",
      "Epoch 131/150\n",
      "625/625 [==============================] - 3s 4ms/step - loss: 41.8343 - val_loss: 41.6541 - lr: 1.0000e-05\n",
      "Epoch 132/150\n",
      "625/625 [==============================] - 3s 5ms/step - loss: 41.6605 - val_loss: 41.4876 - lr: 1.0000e-05\n",
      "Epoch 133/150\n",
      "625/625 [==============================] - 3s 5ms/step - loss: 41.4910 - val_loss: 41.3183 - lr: 1.0000e-05\n",
      "Epoch 134/150\n",
      "625/625 [==============================] - 3s 5ms/step - loss: 41.3133 - val_loss: 41.1420 - lr: 1.0000e-05\n",
      "Epoch 135/150\n",
      "625/625 [==============================] - 4s 6ms/step - loss: 41.1503 - val_loss: 40.9815 - lr: 1.0000e-05\n",
      "Epoch 136/150\n",
      "625/625 [==============================] - 3s 5ms/step - loss: 40.9886 - val_loss: 40.8099 - lr: 1.0000e-05\n",
      "Epoch 137/150\n",
      "625/625 [==============================] - 3s 5ms/step - loss: 40.8218 - val_loss: 40.6504 - lr: 1.0000e-05\n",
      "Epoch 138/150\n",
      "625/625 [==============================] - 3s 5ms/step - loss: 40.6577 - val_loss: 40.4936 - lr: 1.0000e-05\n",
      "Epoch 139/150\n",
      "625/625 [==============================] - 3s 5ms/step - loss: 40.5019 - val_loss: 40.3397 - lr: 1.0000e-05\n",
      "Epoch 140/150\n",
      "625/625 [==============================] - 3s 5ms/step - loss: 40.3421 - val_loss: 40.1706 - lr: 1.0000e-05\n",
      "Epoch 141/150\n",
      "625/625 [==============================] - 3s 5ms/step - loss: 40.1923 - val_loss: 40.0259 - lr: 1.0000e-05\n",
      "Epoch 142/150\n",
      "625/625 [==============================] - 3s 4ms/step - loss: 40.0387 - val_loss: 39.8771 - lr: 1.0000e-05\n",
      "Epoch 143/150\n",
      "625/625 [==============================] - 3s 4ms/step - loss: 39.8857 - val_loss: 39.7206 - lr: 1.0000e-05\n",
      "Epoch 144/150\n",
      "625/625 [==============================] - 3s 4ms/step - loss: 39.7356 - val_loss: 39.5731 - lr: 1.0000e-05\n",
      "Epoch 145/150\n",
      "625/625 [==============================] - 3s 4ms/step - loss: 39.5899 - val_loss: 39.4357 - lr: 1.0000e-05\n",
      "Epoch 146/150\n",
      "625/625 [==============================] - 3s 4ms/step - loss: 39.4495 - val_loss: 39.2899 - lr: 1.0000e-05\n",
      "Epoch 147/150\n",
      "625/625 [==============================] - 3s 4ms/step - loss: 39.3153 - val_loss: 39.1649 - lr: 1.0000e-05\n",
      "Epoch 148/150\n",
      "625/625 [==============================] - 3s 4ms/step - loss: 39.1833 - val_loss: 39.0359 - lr: 1.0000e-05\n",
      "Epoch 149/150\n",
      "625/625 [==============================] - 3s 4ms/step - loss: 39.0540 - val_loss: 38.9124 - lr: 1.0000e-05\n",
      "Epoch 150/150\n",
      "625/625 [==============================] - 3s 4ms/step - loss: 38.9297 - val_loss: 38.7812 - lr: 1.0000e-05\n"
     ]
    }
   ],
   "source": [
    "q_autoencoder.compile(optimizer=tf.keras.optimizers.Adam(learning_rate=0.00001), loss='mse')\n",
    "train = False\n",
    "EPOCHS = 150\n",
    "BATCH_SIZE = 1024\n",
    "\n",
    "from tensorflow.keras.callbacks import EarlyStopping, ReduceLROnPlateau, TerminateOnNaN\n",
    "\n",
    "callbacks=[]\n",
    "callbacks.append(ReduceLROnPlateau(monitor='val_loss',  factor=0.1, patience=2, verbose=1, mode='auto', min_delta=0.0001, cooldown=2, min_lr=1E-6))\n",
    "callbacks.append(TerminateOnNaN())\n",
    "callbacks.append(tf.keras.callbacks.EarlyStopping(monitor='val_loss',verbose=1, patience=10, restore_best_weights=True))\n",
    "callbacks.append(pruning_callbacks.UpdatePruningStep())\n",
    "if train:\n",
    "    history = q_autoencoder.fit(X_train, X_train, epochs = EPOCHS, batch_size = BATCH_SIZE,\n",
    "                  validation_data=(X_val, X_val),\n",
    "                  callbacks=callbacks)\n",
    "    # Save the model\n",
    "    q_autoencoder.save('compressed_ae.h5')\n",
    "    \n",
    "else:\n",
    "    q_autoencoder = tf.keras.models.load_model('compressed_ae.h5')\n",
    "    "
   ]
  },
  {
   "cell_type": "markdown",
   "metadata": {},
   "source": [
    "Let's compare the performance to the floating point precision, unpruned model:"
   ]
  },
  {
   "cell_type": "code",
   "execution_count": 23,
   "metadata": {},
   "outputs": [
    {
     "data": {
      "text/plain": [
       "<Figure size 576x576 with 0 Axes>"
      ]
     },
     "metadata": {},
     "output_type": "display_data"
    }
   ],
   "source": [
    "bkg_prediction = q_autoencoder.predict(X_test)\n",
    "signal_prediction = q_autoencoder.predict(signal_test_data)\n",
    "\n",
    "# compute loss value of input data versus AE reconstructed data\n",
    "q_mse_sm = mse_loss(X_test, bkg_prediction.astype(np.float32)).numpy()\n",
    "q_mse_bsm = mse_loss(signal_test_data,signal_prediction.astype(np.float32)).numpy()\n",
    "\n",
    "target_background = np.zeros(q_mse_sm.shape[0])\n",
    "\n",
    "plt.figure(figsize=(8,8))\n",
    "trueVal = np.concatenate((np.ones(q_mse_bsm.shape[0]), target_background)) # anomaly=1, bkg=0\n",
    "predVal_loss = np.concatenate((q_mse_bsm, q_mse_sm))\n",
    "\n",
    "q_fpr_loss, q_tpr_loss, q_threshold_loss = roc_curve(trueVal, predVal_loss)\n",
    "\n",
    "q_auc_loss = auc(q_fpr_loss, q_tpr_loss)"
   ]
  },
  {
   "cell_type": "code",
   "execution_count": 24,
   "metadata": {},
   "outputs": [
    {
     "data": {
      "image/png": "[encoded data removed]",
      "text/plain": [
       "<Figure size 576x576 with 1 Axes>"
      ]
     },
     "metadata": {
      "needs_background": "light"
     },
     "output_type": "display_data"
    }
   ],
   "source": [
    "plt.figure(figsize=(8,8))\n",
    "    \n",
    "plt.plot(fpr_loss, tpr_loss, \"-\", label='Baseline (auc = %.1f%%)'%(auc_loss*100.), linewidth=1.5, color = \"orchid\")\n",
    "plt.plot(q_fpr_loss, q_tpr_loss, \"-\", label='Quantized+Pruned (auc = %.1f%%)'%(q_auc_loss*100.), linewidth=1.5, color = \"green\")\n",
    "\n",
    "plt.semilogx()\n",
    "plt.semilogy()\n",
    "plt.ylabel(\"True Positive Rate\")\n",
    "plt.xlabel(\"False Positive Rate\")\n",
    "plt.legend(loc='center right')\n",
    "plt.grid(True)\n",
    "plt.tight_layout()\n",
    "plt.plot(np.linspace(0, 1),np.linspace(0, 1), '--', color='0.75')\n",
    "plt.axvline(0.00001, color='orange', linestyle='dashed', linewidth=2) # threshold value for measuring anomaly detection efficiency\n",
    "plt.show()"
   ]
  },
  {
   "cell_type": "markdown",
   "metadata": {},
   "source": [
    "OUCH! We relly took a hit. Well, whatever. Let's tune that another time and nonw try deploying these models!!"
   ]
  },
  {
   "cell_type": "code",
   "execution_count": null,
   "metadata": {},
   "outputs": [],
   "source": []
  }
 ],
 "metadata": {
  "kernelspec": {
   "display_name": "Python 3 (ipykernel)",
   "language": "python",
   "name": "python3"
  },
  "language_info": {
   "codemirror_mode": {
    "name": "ipython",
    "version": 3
   },
   "file_extension": ".py",
   "mimetype": "text/x-python",
   "name": "python",
   "nbconvert_exporter": "python",
   "pygments_lexer": "ipython3",
   "version": "3.9.7"
  }
 },
 "nbformat": 4,
 "nbformat_minor": 4
}
