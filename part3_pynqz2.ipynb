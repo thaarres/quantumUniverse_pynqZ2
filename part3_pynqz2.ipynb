{
 "cells": [
  {
   "cell_type": "markdown",
   "metadata": {},
   "source": [
    "# Deployment on the Pynq Z2 SoC\n",
    "\n",
    "Finally, we will deploy the two models and measure the inference latency on a Pynq Z2 System-on-Chip. You can buy this yourself for under 200 euros!\n",
    "\n",
    "<img src=\"images/pynq.png\" alt=\"hls4ml\" width=\"500\" img align=\"center\"/>\n"
   ]
  },
  {
   "cell_type": "code",
   "execution_count": 2,
   "metadata": {},
   "outputs": [
    {
     "ename": "ModuleNotFoundError",
     "evalue": "No module named 'hls4mlruntime'",
     "output_type": "error",
     "traceback": [
      "\u001b[0;31m---------------------------------------------------------------------------\u001b[0m",
      "\u001b[0;31mModuleNotFoundError\u001b[0m                       Traceback (most recent call last)",
      "\u001b[0;32m/var/folders/lx/xk6v8st56q5cw8gw5s3xxv6c0000gn/T/ipykernel_39445/2587410015.py\u001b[0m in \u001b[0;36m<module>\u001b[0;34m\u001b[0m\n\u001b[1;32m      2\u001b[0m \u001b[0;32mimport\u001b[0m \u001b[0mos\u001b[0m\u001b[0;34m\u001b[0m\u001b[0;34m\u001b[0m\u001b[0m\n\u001b[1;32m      3\u001b[0m \u001b[0;34m\u001b[0m\u001b[0m\n\u001b[0;32m----> 4\u001b[0;31m \u001b[0;32mfrom\u001b[0m \u001b[0mhls4mlruntime\u001b[0m \u001b[0;32mimport\u001b[0m \u001b[0mNeuralNetworkOverlay\u001b[0m\u001b[0;34m\u001b[0m\u001b[0;34m\u001b[0m\u001b[0m\n\u001b[0m\u001b[1;32m      5\u001b[0m \u001b[0;32mdef\u001b[0m \u001b[0mmain\u001b[0m\u001b[0;34m(\u001b[0m\u001b[0;34m)\u001b[0m\u001b[0;34m:\u001b[0m\u001b[0;34m\u001b[0m\u001b[0;34m\u001b[0m\u001b[0m\n\u001b[1;32m      6\u001b[0m \u001b[0;34m\u001b[0m\u001b[0m\n",
      "\u001b[0;31mModuleNotFoundError\u001b[0m: No module named 'hls4mlruntime'"
     ]
    }
   ],
   "source": [
    "import numpy as np\n",
    "import os\n",
    "\n",
    "from hls4mlruntime import NeuralNetworkOverlay\n",
    "\n",
    "import argparse\n",
    "import tarfile\n",
    "import shutil\n",
    "parser = argparse.ArgumentParser()\n",
    "parser.add_argument('tar', type=str)\n",
    "args = parser.parse_args()\n",
    "tar = tarfile.open(args.tar)\n",
    "tar.extractall()\n",
    "driver = [f for f in os.listdir('./package/') if 'driver' in f][0]\n",
    "shutil.copy(f'package/{driver}', 'hls4mlruntime.py')\n",
    "os.chdir('package')\n",
    "\n",
    "bitfile = [f for f in os.listdir() if '.bit' in f][0]\n",
    "nn = NeuralNetworkOverlay(bitfile)\n",
    "X = np.load('X.npy').astype(np.float32)\n",
    "y_ref = np.load('y.npy').astype(np.float32)\n",
    "y_hw, _, _ = nn.predict(X, y_ref.shape, profile=True)\n",
    "np.testing.assert_allclose(y_hw, y_ref)\n",
    "    "
   ]
  }
 ],
 "metadata": {
  "kernelspec": {
   "display_name": "Python 3 (ipykernel)",
   "language": "python",
   "name": "python3"
  },
  "language_info": {
   "codemirror_mode": {
    "name": "ipython",
    "version": 3
   },
   "file_extension": ".py",
   "mimetype": "text/x-python",
   "name": "python",
   "nbconvert_exporter": "python",
   "pygments_lexer": "ipython3",
   "version": "3.9.7"
  }
 },
 "nbformat": 4,
 "nbformat_minor": 4
}
